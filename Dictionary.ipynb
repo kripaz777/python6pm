{
 "cells": [
  {
   "cell_type": "code",
   "execution_count": 1,
   "id": "93164142",
   "metadata": {},
   "outputs": [],
   "source": [
    "#Dictionary\n",
    "# -Multiple data\n",
    "# -Duplicate data\n",
    "# -Indexing\n",
    "# -Mutable datatype"
   ]
  },
  {
   "cell_type": "code",
   "execution_count": 2,
   "id": "cdfb971b",
   "metadata": {},
   "outputs": [],
   "source": [
    "# d = {<key>:<value>,<key>:<value>,...}"
   ]
  },
  {
   "cell_type": "code",
   "execution_count": 7,
   "id": "8e1933af",
   "metadata": {},
   "outputs": [
    {
     "name": "stdout",
     "output_type": "stream",
     "text": [
      "Apple\n",
      "Cat\n"
     ]
    }
   ],
   "source": [
    "d = {'a':'Apple', 'b':'Ball', 'c':'Cat'}\n",
    "print(d['a'])\n",
    "print(d['c'])"
   ]
  },
  {
   "cell_type": "code",
   "execution_count": 11,
   "id": "c463c91e",
   "metadata": {},
   "outputs": [
    {
     "name": "stdout",
     "output_type": "stream",
     "text": [
      "Apple\n",
      "Cat\n",
      "{'a': 'Apple', 'b': 'Ball', 'c': 'Cat', 'A': 'Ant'}\n"
     ]
    }
   ],
   "source": [
    "# -Duplicate data but no key\n",
    "d = {'a':'Apple', 'b':'Ball', 'c':'Cat','A':'Ant'}\n",
    "print(d['a'])\n",
    "print(d['c'])\n",
    "print(d)"
   ]
  },
  {
   "cell_type": "code",
   "execution_count": 12,
   "id": "2f8de65f",
   "metadata": {},
   "outputs": [
    {
     "data": {
      "text/plain": [
       "4"
      ]
     },
     "execution_count": 12,
     "metadata": {},
     "output_type": "execute_result"
    }
   ],
   "source": [
    "len(d)"
   ]
  },
  {
   "cell_type": "code",
   "execution_count": 13,
   "id": "6e466aa3",
   "metadata": {},
   "outputs": [
    {
     "data": {
      "text/plain": [
       "{'Ram': 9808778765, 'Shyam': 9808556543, 'Hari': 984555654}"
      ]
     },
     "execution_count": 13,
     "metadata": {},
     "output_type": "execute_result"
    }
   ],
   "source": [
    "# d = dict()\n",
    "d = {}\n",
    "d['Ram'] = 9808778765\n",
    "d['Shyam'] = 9808556543\n",
    "d['Hari'] = 984555654\n",
    "d"
   ]
  },
  {
   "cell_type": "code",
   "execution_count": 14,
   "id": "583b5600",
   "metadata": {},
   "outputs": [
    {
     "name": "stdout",
     "output_type": "stream",
     "text": [
      "Enter n = 2\n",
      "Enter name = Ram\n",
      "Entr phon = 9808778765\n",
      "Enter name = SHyam\n",
      "Entr phon = 9808778765\n",
      "{'Ram': '9808778765', 'SHyam': '9808778765'}\n"
     ]
    }
   ],
   "source": [
    "d = {}\n",
    "n = int(input(\"Enter n = \"))\n",
    "for i in range(n):\n",
    "    name = input(\"Enter name = \")\n",
    "    phone = input(\"Entr phon = \")\n",
    "    d[name] = phone\n",
    "print(d)"
   ]
  },
  {
   "cell_type": "code",
   "execution_count": 18,
   "id": "0f7678ee",
   "metadata": {},
   "outputs": [
    {
     "data": {
      "text/plain": [
       "'9808778765'"
      ]
     },
     "execution_count": 18,
     "metadata": {},
     "output_type": "execute_result"
    }
   ],
   "source": [
    "a = {'Ram': '9808778765', 'SHyam': '9808778765'}\n",
    "a['Ram'] = 980887657\n",
    "a"
   ]
  },
  {
   "cell_type": "code",
   "execution_count": 20,
   "id": "ce3a9ad9",
   "metadata": {},
   "outputs": [
    {
     "name": "stdout",
     "output_type": "stream",
     "text": [
      "Ram\n",
      "Shyam\n",
      "Hari\n"
     ]
    }
   ],
   "source": [
    "a = ['Ram','Shyam','Hari']\n",
    "for i in a:\n",
    "    print(i)"
   ]
  },
  {
   "cell_type": "code",
   "execution_count": 22,
   "id": "2ab07200",
   "metadata": {},
   "outputs": [
    {
     "name": "stdout",
     "output_type": "stream",
     "text": [
      "Ram\n",
      "SHyam\n",
      "9808778765\n",
      "9808778765\n",
      "('Ram', '9808778765')\n",
      "('SHyam', '9808778765')\n"
     ]
    }
   ],
   "source": [
    "#for only key\n",
    "a = {'Ram': '9808778765', 'SHyam': '9808778765'}\n",
    "for i in a:\n",
    "    print(i)\n",
    "#for value\n",
    "a = {'Ram': '9808778765', 'SHyam': '9808778765'}\n",
    "for i in a.values():\n",
    "    print(i)\n",
    "#for both\n",
    "a = {'Ram': '9808778765', 'SHyam': '9808778765'}\n",
    "for i in a.items():\n",
    "    print(i)"
   ]
  },
  {
   "cell_type": "code",
   "execution_count": 23,
   "id": "f7a8566f",
   "metadata": {},
   "outputs": [
    {
     "name": "stdout",
     "output_type": "stream",
     "text": [
      "{'SHyam': '9808778765'}\n"
     ]
    }
   ],
   "source": [
    "# delete\n",
    "a = {'Ram': '9808778765', 'SHyam': '9808778765'}\n",
    "del a['Ram']\n",
    "print(a)"
   ]
  },
  {
   "cell_type": "code",
   "execution_count": 24,
   "id": "d4b51b6c",
   "metadata": {},
   "outputs": [
    {
     "name": "stdout",
     "output_type": "stream",
     "text": [
      "{'SHyam': '9808778765'}\n",
      "9808778765\n"
     ]
    }
   ],
   "source": [
    "a = {'Ram': '980877876', 'SHyam': '9808778765'}\n",
    "b = a.pop('Ram')\n",
    "print(a)\n",
    "print(b)"
   ]
  },
  {
   "cell_type": "code",
   "execution_count": null,
   "id": "6687bbd5",
   "metadata": {},
   "outputs": [],
   "source": [
    "a = {1:1,2:4,3:9}\n",
    "print(a)"
   ]
  },
  {
   "cell_type": "code",
   "execution_count": 25,
   "id": "8067a9cc",
   "metadata": {},
   "outputs": [
    {
     "name": "stdout",
     "output_type": "stream",
     "text": [
      "Enter nameRam\n",
      "Enter phone988979889\n"
     ]
    },
    {
     "data": {
      "text/plain": [
       "{'Ram': '988979889'}"
      ]
     },
     "execution_count": 25,
     "metadata": {},
     "output_type": "execute_result"
    }
   ],
   "source": [
    "a = {input(\"Enter name\"):input(\"Enter phone\")}\n",
    "a"
   ]
  },
  {
   "cell_type": "code",
   "execution_count": 26,
   "id": "04a51a7e",
   "metadata": {},
   "outputs": [
    {
     "name": "stdout",
     "output_type": "stream",
     "text": [
      "{'Ram': [9845667654, 9845676654], 'Shyam': [9878776765, 9808667876]}\n"
     ]
    }
   ],
   "source": [
    "# list inside dict\n",
    "a = {'Ram':[9845667654,9845676654],\n",
    "    'Shyam':[9878776765,9808667876]}\n",
    "print(a)"
   ]
  },
  {
   "cell_type": "code",
   "execution_count": 27,
   "id": "b633f70f",
   "metadata": {},
   "outputs": [
    {
     "data": {
      "text/plain": [
       "{'name': ['Ram', 'Shyam', 'Hari'],\n",
       " 'ntc': [9865556543, 9867665432, 9867554365],\n",
       " 'ncell': [9808778765, 9808778754, 9808445654]}"
      ]
     },
     "execution_count": 27,
     "metadata": {},
     "output_type": "execute_result"
    }
   ],
   "source": [
    "a = {'name':['Ram','Shyam','Hari'],\n",
    "    'ntc':[9865556543,9867665432,9867554365],\n",
    "    'ncell':[9808778765,9808778754,9808445654]}\n",
    "a"
   ]
  },
  {
   "cell_type": "code",
   "execution_count": 28,
   "id": "05ce0598",
   "metadata": {},
   "outputs": [
    {
     "name": "stdout",
     "output_type": "stream",
     "text": [
      "Enter n = 2\n",
      "Enter name = Ram\n",
      "Entr ntc phone no  = 9867667654\n",
      "Enter ncell no = 9808778765\n",
      "Enter name = Shyam\n",
      "Entr ntc phone no  = \n",
      "Enter ncell no = 9808778765\n",
      "{'Ram': ['9867667654', '9808778765'], 'Shyam': ['', '9808778765']}\n"
     ]
    }
   ],
   "source": [
    "#list inside dict\n",
    "d = {}\n",
    "n = int(input(\"Enter n = \"))\n",
    "for i in range(n):\n",
    "    name = input(\"Enter name = \")\n",
    "    ntc = input(\"Entr ntc phone no  = \")\n",
    "    ncell = input(\"Enter ncell no = \")\n",
    "    d[name] = [ntc,ncell]\n",
    "print(d)"
   ]
  },
  {
   "cell_type": "code",
   "execution_count": 29,
   "id": "47b20ed3",
   "metadata": {},
   "outputs": [
    {
     "data": {
      "text/plain": [
       "['9867667654', '9808778765']"
      ]
     },
     "execution_count": 29,
     "metadata": {},
     "output_type": "execute_result"
    }
   ],
   "source": [
    "d['Ram']"
   ]
  },
  {
   "cell_type": "code",
   "execution_count": 30,
   "id": "2084350d",
   "metadata": {},
   "outputs": [
    {
     "name": "stdout",
     "output_type": "stream",
     "text": [
      "ntc no of Ram 9867667654\n"
     ]
    }
   ],
   "source": [
    "print(\"ntc no of Ram\",d['Ram'][0])"
   ]
  },
  {
   "cell_type": "code",
   "execution_count": 32,
   "id": "715ddc58",
   "metadata": {},
   "outputs": [
    {
     "name": "stdout",
     "output_type": "stream",
     "text": [
      "Enter n = 2\n",
      "Enter name = Ram\n",
      "Entr ntc phone no  = 9856556543\n",
      "Enter ncell no = 9808778765\n",
      "Enter name = Shyam\n",
      "Entr ntc phone no  = 9856776546\n",
      "Enter ncell no = 9808778765\n",
      "{'name': ['Ram', 'Shyam'], 'ntc': ['9856556543', '9856776546'], 'ncell': ['9808778765', '9808778765']}\n"
     ]
    }
   ],
   "source": [
    "# a = {'name':['Ram','Shyam','Hari'],\n",
    "#     'ntc':[9865556543,9867665432,9867554365],\n",
    "#     'ncell':[9808778765,9808778754,9808445654]}\n",
    "# a\n",
    "#list inside dict\n",
    "d = {'name':[],'ntc':[],'ncell':[]}\n",
    "n = int(input(\"Enter n = \"))\n",
    "for i in range(n):\n",
    "    name = input(\"Enter name = \")\n",
    "    ntc = input(\"Entr ntc phone no  = \")\n",
    "    ncell = input(\"Enter ncell no = \")\n",
    "    d['name'].append(name)\n",
    "    d['ntc'].append(ntc)\n",
    "    d['ncell'].append(ncell)\n",
    "\n",
    "print(d)"
   ]
  },
  {
   "cell_type": "code",
   "execution_count": 34,
   "id": "8d7334ce",
   "metadata": {},
   "outputs": [
    {
     "name": "stdout",
     "output_type": "stream",
     "text": [
      "Ram\n",
      "9856556543\n",
      "9808778765\n"
     ]
    }
   ],
   "source": [
    "d = {'name': ['Ram', 'Shyam'],\n",
    "     'ntc': ['9856556543', '9856776546'], \n",
    "     'ncell': ['9808778765', '9808778765']}\n",
    "print(d['name'][0])\n",
    "print(d['ntc'][0])\n",
    "print(d['ncell'][0])"
   ]
  },
  {
   "cell_type": "code",
   "execution_count": 36,
   "id": "db1b1930",
   "metadata": {},
   "outputs": [
    {
     "data": {
      "text/plain": [
       "{'name': [], 'ntc': [], 'ncell': []}"
      ]
     },
     "execution_count": 36,
     "metadata": {},
     "output_type": "execute_result"
    }
   ],
   "source": [
    "d = {'name': ['Ram', 'Shyam'], 'ntc': ['9856556543', '9856776546'], 'ncell': ['9808778765', '9808778765']}\n",
    "\n",
    "del d['name'][0]\n",
    "del d['ntc'][0]\n",
    "del d['ncell'][0]\n"
   ]
  },
  {
   "cell_type": "code",
   "execution_count": 1,
   "id": "aa23d079",
   "metadata": {},
   "outputs": [
    {
     "name": "stdout",
     "output_type": "stream",
     "text": [
      "[{'name': 'Ram', 'age': 34, 'address': 'Kathmandu'}, {'name': 'Shyam', 'age': 44, 'address': 'Bhaktapur'}, {'name': 'Hari', 'age': 56, 'address': 'Lalitpur'}]\n"
     ]
    }
   ],
   "source": [
    "# dict inside list\n",
    "l = [{'name':'Ram','age':34,'address':'Kathmandu'},\n",
    "    {'name':'Shyam','age':44,'address':'Bhaktapur'},\n",
    "    {'name':'Hari','age':56,'address':'Lalitpur'}]\n",
    "\n",
    "print(l)"
   ]
  },
  {
   "cell_type": "code",
   "execution_count": 4,
   "id": "06ac6bb5",
   "metadata": {},
   "outputs": [
    {
     "name": "stdout",
     "output_type": "stream",
     "text": [
      "{'name': 'Hari', 'age': 56, 'address': 'Lalitpur'}\n"
     ]
    }
   ],
   "source": [
    "print(l[2])"
   ]
  },
  {
   "cell_type": "code",
   "execution_count": 5,
   "id": "aa3ea652",
   "metadata": {},
   "outputs": [
    {
     "name": "stdout",
     "output_type": "stream",
     "text": [
      "Ram\n"
     ]
    }
   ],
   "source": [
    "print(l[0]['name'])"
   ]
  },
  {
   "cell_type": "code",
   "execution_count": 6,
   "id": "8f0e71aa",
   "metadata": {},
   "outputs": [
    {
     "name": "stdout",
     "output_type": "stream",
     "text": [
      "{'name': 'Ram', 'age': 34, 'address': 'Kathmandu'}\n",
      "{'name': 'Shyam', 'age': 44, 'address': 'Bhaktapur'}\n",
      "{'name': 'Hari', 'age': 56, 'address': 'Lalitpur'}\n"
     ]
    }
   ],
   "source": [
    "for i in l:\n",
    "    print(i)"
   ]
  },
  {
   "cell_type": "code",
   "execution_count": 20,
   "id": "b3daee25",
   "metadata": {},
   "outputs": [
    {
     "name": "stdout",
     "output_type": "stream",
     "text": [
      "['Ram', 34, 'Kathmandu', 9878776765]\n",
      "['Shyam', 44, 'Bhaktapur']\n",
      "['Hari', 56, 'Lalitpur']\n"
     ]
    }
   ],
   "source": [
    "for i in l:\n",
    "    print(list(i.values()))"
   ]
  },
  {
   "cell_type": "code",
   "execution_count": 11,
   "id": "0f14b739",
   "metadata": {},
   "outputs": [
    {
     "name": "stdout",
     "output_type": "stream",
     "text": [
      "Apple\n",
      "Ball\n",
      "Cat\n"
     ]
    }
   ],
   "source": [
    "l = ['Apple','Ball','Cat']\n",
    "for i in l:\n",
    "    print(i)"
   ]
  },
  {
   "cell_type": "code",
   "execution_count": null,
   "id": "e77f52eb",
   "metadata": {},
   "outputs": [],
   "source": [
    "# dict inside list\n",
    "l = [{'name':'Ram','age':34,'address':'Kathmandu'},\n",
    "    {'name':'Shyam','age':44,'address':'Bhaktapur'},\n",
    "    {'name':'Hari','age':56,'address':'Lalitpur'}]\n",
    "\n",
    "print(l)"
   ]
  },
  {
   "cell_type": "code",
   "execution_count": 13,
   "id": "2d7bd0f0",
   "metadata": {},
   "outputs": [
    {
     "name": "stdout",
     "output_type": "stream",
     "text": [
      "Enter n = 1\n",
      "Enter name = Ram\n",
      "Enter age = 78\n",
      "Enter address = Kathmandu\n",
      "[{'name': 'Ram', 'age': 78, 'address': 'Kathmandu'}]\n"
     ]
    }
   ],
   "source": [
    "l = []\n",
    "n = int(input(\"Enter n = \"))\n",
    "for i in range(n):\n",
    "    name = input(\"Enter name = \")\n",
    "    age = int(input(\"Enter age = \"))\n",
    "    address = input(\"Enter address = \")\n",
    "    info = {'name':name,'age':age,'address':address}\n",
    "    l.append(info)\n",
    "    \n",
    "print(l)"
   ]
  },
  {
   "cell_type": "code",
   "execution_count": 21,
   "id": "afd0bd2c",
   "metadata": {},
   "outputs": [
    {
     "name": "stdout",
     "output_type": "stream",
     "text": [
      "['Ram', 34, 'Kathmandu', 9878776765]\n",
      "['Shyam', 44, 'Bhaktapur']\n",
      "['Hari', 56, 'Lalitpur']\n"
     ]
    }
   ],
   "source": [
    "for i in l:\n",
    "    print(list(i.values()))"
   ]
  },
  {
   "cell_type": "code",
   "execution_count": 17,
   "id": "6bd956af",
   "metadata": {},
   "outputs": [
    {
     "name": "stdout",
     "output_type": "stream",
     "text": [
      "{'name': 'Ram', 'age': 34, 'address': 'Kathmandu'}\n",
      "{'name': 'Shyam', 'age': 44, 'address': 'Bhaktapur'}\n",
      "{'name': 'Hari', 'address': 'Lalitpur'}\n"
     ]
    }
   ],
   "source": [
    "# dict inside list\n",
    "l = [{'name':'Ram','age':34,'address':'Kathmandu'},\n",
    "    {'name':'Shyam','age':44,'address':'Bhaktapur'},\n",
    "    {'name':'Hari','address':'Lalitpur'}]\n",
    "for i in l:\n",
    "    print(i)"
   ]
  },
  {
   "cell_type": "code",
   "execution_count": 19,
   "id": "9cc611a7",
   "metadata": {},
   "outputs": [
    {
     "data": {
      "text/plain": [
       "[{'name': 'Ram', 'age': 34, 'address': 'Kathmandu', 'phone': 9878776765},\n",
       " {'name': 'Shyam', 'age': 44, 'address': 'Bhaktapur'},\n",
       " {'name': 'Hari', 'age': 56, 'address': 'Lalitpur'}]"
      ]
     },
     "execution_count": 19,
     "metadata": {},
     "output_type": "execute_result"
    }
   ],
   "source": [
    "l = [{'name':'Ram','age':34,'address':'Kathmandu'},\n",
    "    {'name':'Shyam','age':44,'address':'Bhaktapur'},\n",
    "    {'name':'Hari','age':56,'address':'Lalitpur'}]\n",
    "l[0]['phone'] = 9878776765\n",
    "l"
   ]
  },
  {
   "cell_type": "code",
   "execution_count": 25,
   "id": "cf9c49b0",
   "metadata": {},
   "outputs": [
    {
     "name": "stdout",
     "output_type": "stream",
     "text": [
      "['Ram', 34, 'Kathmandu', 9878776765]\n",
      "['Shyam', 44, 'Bhaktapur']\n",
      "['Hari', 56, 'Lalitpur']\n"
     ]
    }
   ],
   "source": [
    "for i in l:\n",
    "    print(list(i.values()))"
   ]
  },
  {
   "cell_type": "code",
   "execution_count": 30,
   "id": "60785290",
   "metadata": {},
   "outputs": [
    {
     "name": "stdout",
     "output_type": "stream",
     "text": [
      "Enter phone = 9808778765\n",
      "Enter phone = 9808778765\n",
      "Enter phone = 9808778765\n",
      "[{'name': 'Ram', 'age': 34, 'address': 'Kathmandu', 'phone': '9808778765'}, {'name': 'Shyam', 'age': 44, 'address': 'Bhaktapur', 'phone': '9808778765'}, {'name': 'Hari', 'age': 56, 'address': 'Lalitpur', 'phone': '9808778765'}]\n"
     ]
    }
   ],
   "source": [
    "l = [{'name':'Ram','age':34,'address':'Kathmandu'},\n",
    "    {'name':'Shyam','age':44,'address':'Bhaktapur'},\n",
    "    {'name':'Hari','age':56,'address':'Lalitpur'}]\n",
    "for i in range(len(l)):\n",
    "    l[i]['phone'] = input(\"Enter phone = \")\n",
    "print(l)"
   ]
  },
  {
   "cell_type": "code",
   "execution_count": 36,
   "id": "22d10501",
   "metadata": {},
   "outputs": [
    {
     "data": {
      "text/plain": [
       "{'a': 'Apple', 'b': 'Ball', 'c': 'Cat'}"
      ]
     },
     "execution_count": 36,
     "metadata": {},
     "output_type": "execute_result"
    }
   ],
   "source": [
    "l = [['a','Apple'],['b','Ball'],['c','Cat']]\n",
    "dict(l)"
   ]
  },
  {
   "cell_type": "code",
   "execution_count": 42,
   "id": "bf9f3179",
   "metadata": {},
   "outputs": [
    {
     "name": "stdout",
     "output_type": "stream",
     "text": [
      "Bhaktapur\n"
     ]
    }
   ],
   "source": [
    "l = [{'name':'Ram','age':34,'address':['Kathmandu','Dhading']},\n",
    "    {'name':'Shyam','age':44,'address':['Bhaktapur','Dang']},\n",
    "    {'name':'Hari','age':56,'address':['Lalitpur','Jhapa']}]\n",
    "len(l)\n",
    "print(l[1]['address'][0])"
   ]
  },
  {
   "cell_type": "code",
   "execution_count": 1,
   "id": "0f052a1a",
   "metadata": {},
   "outputs": [],
   "source": [
    "# dict inside dict and set\n",
    "d = {1:{'name':'Ram','age':34,'address':'Kathmandu'},\n",
    "    2:{'name':'Shyam','age':44,'address':'Bhaktapur'},\n",
    "    3:{'name':'Hari','age':56,'address':'Lalitpur'}}"
   ]
  },
  {
   "cell_type": "code",
   "execution_count": 4,
   "id": "5b5c0446",
   "metadata": {},
   "outputs": [
    {
     "name": "stdout",
     "output_type": "stream",
     "text": [
      "Enter n = 2\n",
      "Enter name = Ram\n",
      "Enter age = 67\n",
      "Enter address = Kathmandu\n",
      "Enter name = 2\n",
      "Enter age = 89\n",
      "Enter address = Bhaktapur\n",
      "{1: {'name': 'Ram', 'age': 67, 'address': 'Kathmandu'}, 2: {'name': '2', 'age': 89, 'address': 'Bhaktapur'}}\n"
     ]
    }
   ],
   "source": [
    "d = {}\n",
    "n = int(input(\"Enter n = \"))\n",
    "for i in range(1,n+1):\n",
    "    symbol_no = input(\"Enter Symbol no = \")\n",
    "    name = input(\"Enter name = \")\n",
    "    age = int(input(\"Enter age = \"))\n",
    "    address = input(\"Enter address = \")\n",
    "    info = {'name':name,'age':age,'address':address}\n",
    "    d[symbol_no] = info\n",
    "    \n",
    "print(d)"
   ]
  },
  {
   "cell_type": "code",
   "execution_count": 9,
   "id": "036a2dab",
   "metadata": {},
   "outputs": [
    {
     "name": "stdout",
     "output_type": "stream",
     "text": [
      "Enter sn = 3\n"
     ]
    },
    {
     "data": {
      "text/plain": [
       "{'name': 'Hari', 'age': 56, 'address': 'Lalitpur'}"
      ]
     },
     "execution_count": 9,
     "metadata": {},
     "output_type": "execute_result"
    }
   ],
   "source": [
    "d = {1:{'name':'Ram','age':34,'address':'Kathmandu'},\n",
    "    2:{'name':'Shyam','age':44,'address':'Bhaktapur'},\n",
    "    3:{'name':'Hari','age':56,'address':'Lalitpur'}}\n",
    "\n",
    "sn = int(input(\"Enter sn = \"))\n",
    "d[sn]"
   ]
  },
  {
   "cell_type": "code",
   "execution_count": 10,
   "id": "88257875",
   "metadata": {},
   "outputs": [
    {
     "data": {
      "text/plain": [
       "{1: {'name': 'Ram', 'age': 34, 'address': 'Kathmandu'},\n",
       " 2: {'name': 'Shyam', 'age': 44, 'address': 'Bhaktapur'},\n",
       " 3: {'name': 'Hari', 'age': 56, 'address': 'Lalitpur'},\n",
       " 0: {'name': 'Rama', 'age': 34, 'address': 'Palpa'}}"
      ]
     },
     "execution_count": 10,
     "metadata": {},
     "output_type": "execute_result"
    }
   ],
   "source": [
    "d[0] = {'name':'Rama','age':34,'address':'Palpa'}\n",
    "d"
   ]
  },
  {
   "cell_type": "code",
   "execution_count": 11,
   "id": "e646fbef",
   "metadata": {},
   "outputs": [
    {
     "name": "stdout",
     "output_type": "stream",
     "text": [
      "{1: {'name': 'Ram', 'age': 34, 'address': 'Kathmandu'}, 2: {'name': 'Shyam', 'age': 44, 'address': 'Bhaktapur'}, 3: {'name': 'Hari', 'age': 56, 'address': 'Lalitpur'}}\n"
     ]
    }
   ],
   "source": [
    "del d[0]\n",
    "print(d)"
   ]
  },
  {
   "cell_type": "code",
   "execution_count": 31,
   "id": "3ebf963c",
   "metadata": {},
   "outputs": [
    {
     "data": {
      "text/plain": [
       "'Lalitpur'"
      ]
     },
     "execution_count": 31,
     "metadata": {},
     "output_type": "execute_result"
    }
   ],
   "source": [
    "a = {1: {'name': 'Ram',\n",
    "       'age': 34, \n",
    "     'address': {'per':'Kathmandu',\n",
    "                 'temp':'Lalitpur'}}}\n",
    "a[1]['address']['temp']"
   ]
  },
  {
   "cell_type": "code",
   "execution_count": 15,
   "id": "6827915a",
   "metadata": {},
   "outputs": [],
   "source": [
    "# d.items()"
   ]
  },
  {
   "cell_type": "code",
   "execution_count": 16,
   "id": "0257e609",
   "metadata": {},
   "outputs": [
    {
     "data": {
      "text/plain": [
       "({'name': 'Ram', 'age': 34, 'address': ['Kathmandu', 'Dhading']},\n",
       " {'name': 'Shyam', 'age': 44, 'address': ['Bhaktapur', 'Dang']},\n",
       " {'name': 'Hari', 'age': 56, 'address': ['Lalitpur', 'Jhapa']})"
      ]
     },
     "execution_count": 16,
     "metadata": {},
     "output_type": "execute_result"
    }
   ],
   "source": [
    "l = ({'name':'Ram','age':34,'address':['Kathmandu','Dhading']},\n",
    "    {'name':'Shyam','age':44,'address':['Bhaktapur','Dang']},\n",
    "    {'name':'Hari','age':56,'address':['Lalitpur','Jhapa']})\n",
    "l"
   ]
  },
  {
   "cell_type": "code",
   "execution_count": 18,
   "id": "509f1ea0",
   "metadata": {},
   "outputs": [
    {
     "data": {
      "text/plain": [
       "({'name': 'Ram',\n",
       "  'age': 34,\n",
       "  'address': ['Kathmandu', 'Dhading'],\n",
       "  'phone': '9878998765'},\n",
       " {'name': 'Shyam', 'age': 44, 'address': ['Bhaktapur', 'Dang']},\n",
       " {'name': 'Hari', 'age': 56, 'address': ['Lalitpur', 'Jhapa']})"
      ]
     },
     "execution_count": 18,
     "metadata": {},
     "output_type": "execute_result"
    }
   ],
   "source": [
    "l[0]['phone'] = \"9878998765\"\n",
    "l"
   ]
  },
  {
   "cell_type": "code",
   "execution_count": 26,
   "id": "fe5ea503",
   "metadata": {},
   "outputs": [
    {
     "data": {
      "text/plain": [
       "{('a', 'A'): 'Apple', 'b': 'Ball', 'c': 'Cat'}"
      ]
     },
     "execution_count": 26,
     "metadata": {},
     "output_type": "execute_result"
    }
   ],
   "source": [
    "#No list , dict and set as key (list, dict and set are mutable)\n",
    "d = {('a','A'):'Apple', 'b':'Ball', 'c':'Cat'}\n",
    "d"
   ]
  },
  {
   "cell_type": "code",
   "execution_count": 24,
   "id": "394bbeb1",
   "metadata": {},
   "outputs": [],
   "source": [
    "# d = {('Ram','Shyam'):9808778765}"
   ]
  },
  {
   "cell_type": "code",
   "execution_count": null,
   "id": "ca4affb4",
   "metadata": {},
   "outputs": [],
   "source": []
  }
 ],
 "metadata": {
  "kernelspec": {
   "display_name": "Python 3 (ipykernel)",
   "language": "python",
   "name": "python3"
  },
  "language_info": {
   "codemirror_mode": {
    "name": "ipython",
    "version": 3
   },
   "file_extension": ".py",
   "mimetype": "text/x-python",
   "name": "python",
   "nbconvert_exporter": "python",
   "pygments_lexer": "ipython3",
   "version": "3.9.12"
  }
 },
 "nbformat": 4,
 "nbformat_minor": 5
}
