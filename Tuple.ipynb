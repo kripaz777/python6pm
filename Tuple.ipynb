{
 "cells": [
  {
   "cell_type": "code",
   "execution_count": 1,
   "id": "b5911ab0",
   "metadata": {},
   "outputs": [],
   "source": [
    "# Tuple\n",
    "# -Multiple data\n",
    "# -Duplicate data\n",
    "# -Indexing\n",
    "# -Imutable datatype"
   ]
  },
  {
   "cell_type": "code",
   "execution_count": 3,
   "id": "acf71a39",
   "metadata": {},
   "outputs": [
    {
     "name": "stdout",
     "output_type": "stream",
     "text": [
      "<class 'tuple'> <class 'tuple'>\n"
     ]
    }
   ],
   "source": [
    "a = (1,2,3,4,5,6,7,8,9,9)\n",
    "b = (\"Apple\",\"ball\",\"Cat\")\n",
    "print(type(a),type(b))"
   ]
  },
  {
   "cell_type": "code",
   "execution_count": 4,
   "id": "742ec1db",
   "metadata": {},
   "outputs": [
    {
     "name": "stdout",
     "output_type": "stream",
     "text": [
      "1\n"
     ]
    }
   ],
   "source": [
    "print(a[0])"
   ]
  },
  {
   "cell_type": "code",
   "execution_count": 5,
   "id": "24d0046d",
   "metadata": {},
   "outputs": [],
   "source": [
    "# Imutable\n",
    "# No append() insert() extend()\n",
    "# No update\n",
    "# No del pop() remove()\n",
    "# No sort()"
   ]
  },
  {
   "cell_type": "code",
   "execution_count": 9,
   "id": "9c8680c8",
   "metadata": {},
   "outputs": [
    {
     "data": {
      "text/plain": [
       "tuple"
      ]
     },
     "execution_count": 9,
     "metadata": {},
     "output_type": "execute_result"
    }
   ],
   "source": [
    "a = (1,2,3,4,5,)\n",
    "type(a)"
   ]
  },
  {
   "cell_type": "code",
   "execution_count": 10,
   "id": "77919423",
   "metadata": {},
   "outputs": [
    {
     "name": "stdout",
     "output_type": "stream",
     "text": [
      "(1, 2, 3, 4, 5, 6, 7, 8)\n"
     ]
    }
   ],
   "source": [
    "a = (1,2,3,4)\n",
    "b = (5,6,7,8)\n",
    "c = a+b\n",
    "print(c)"
   ]
  },
  {
   "cell_type": "code",
   "execution_count": 11,
   "id": "d8273d93",
   "metadata": {},
   "outputs": [
    {
     "name": "stdout",
     "output_type": "stream",
     "text": [
      "Enter n = 2\n",
      "Enter x = 1\n",
      "Enter x = 2\n",
      "(1, 2)\n"
     ]
    }
   ],
   "source": [
    "# t = tuple()\n",
    "t = ()\n",
    "n = int(input(\"Enter n = \"))\n",
    "for i in range(n):\n",
    "    x = int(input(\"Enter x = \"))\n",
    "    t = t + (x,)\n",
    "print(t)"
   ]
  },
  {
   "cell_type": "code",
   "execution_count": 12,
   "id": "ea011b90",
   "metadata": {},
   "outputs": [
    {
     "data": {
      "text/plain": [
       "[1, 2, 3, 4]"
      ]
     },
     "execution_count": 12,
     "metadata": {},
     "output_type": "execute_result"
    }
   ],
   "source": [
    "a = (1,2,3,4)\n",
    "l = list(a)\n",
    "l"
   ]
  },
  {
   "cell_type": "code",
   "execution_count": 13,
   "id": "04896ccb",
   "metadata": {},
   "outputs": [
    {
     "data": {
      "text/plain": [
       "(1, 2, 3, 4, 5)"
      ]
     },
     "execution_count": 13,
     "metadata": {},
     "output_type": "execute_result"
    }
   ],
   "source": [
    "l.append(5)\n",
    "a = tuple(l)\n",
    "a"
   ]
  },
  {
   "cell_type": "code",
   "execution_count": null,
   "id": "f622f33d",
   "metadata": {},
   "outputs": [],
   "source": [
    "# tuple inside tuple\n",
    "t = ((1,2,3),\n",
    "    (4,5,6),\n",
    "    (7,8,9))\n",
    "#WAP to create tuple inside tuple"
   ]
  },
  {
   "cell_type": "code",
   "execution_count": null,
   "id": "faad7fe5",
   "metadata": {},
   "outputs": [],
   "source": [
    "t = ([1,2,3],\n",
    "    [4,5,6],\n",
    "    [7,8,9])\n",
    "#WAP to create list inside tuple"
   ]
  },
  {
   "cell_type": "code",
   "execution_count": null,
   "id": "1bc061eb",
   "metadata": {},
   "outputs": [],
   "source": [
    "l = [(1,2,3),\n",
    "    (4,5,6),\n",
    "    (7,8,9)]\n",
    "#WAP to create tuple inside list"
   ]
  }
 ],
 "metadata": {
  "kernelspec": {
   "display_name": "Python 3 (ipykernel)",
   "language": "python",
   "name": "python3"
  },
  "language_info": {
   "codemirror_mode": {
    "name": "ipython",
    "version": 3
   },
   "file_extension": ".py",
   "mimetype": "text/x-python",
   "name": "python",
   "nbconvert_exporter": "python",
   "pygments_lexer": "ipython3",
   "version": "3.9.12"
  }
 },
 "nbformat": 4,
 "nbformat_minor": 5
}
