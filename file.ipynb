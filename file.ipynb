{
 "cells": [
  {
   "cell_type": "code",
   "execution_count": 1,
   "id": "2fa11d75",
   "metadata": {},
   "outputs": [],
   "source": [
    "# read -> r\n",
    "# write - >w\n",
    "# append ->a\n",
    "# create ->x"
   ]
  },
  {
   "cell_type": "code",
   "execution_count": 2,
   "id": "f9e0dd05",
   "metadata": {},
   "outputs": [],
   "source": [
    "# f = open('<file_name>','<mode>')\n",
    "# f.close()\n",
    "\n",
    "# with open('<file_name>','<mode>') as f:\n",
    "#     <operation>"
   ]
  },
  {
   "cell_type": "code",
   "execution_count": 6,
   "id": "a9b5ec6e",
   "metadata": {},
   "outputs": [
    {
     "name": "stdout",
     "output_type": "stream",
     "text": [
      "The file is already created!\n"
     ]
    }
   ],
   "source": [
    "try:\n",
    "    f = open('data.txt','x')\n",
    "    f.close()\n",
    "except:\n",
    "    print(\"The file is already created!\")"
   ]
  },
  {
   "cell_type": "code",
   "execution_count": 7,
   "id": "860cd6eb",
   "metadata": {},
   "outputs": [
    {
     "name": "stdout",
     "output_type": "stream",
     "text": [
      "1. Hello World\n",
      "2. Hello World\n",
      "3. Hello World\n",
      "4. Hello World\n",
      "5. Hello World\n",
      "6. Hello World\n"
     ]
    }
   ],
   "source": [
    "f = open('data.txt','r')\n",
    "print(f.read())\n",
    "f.close()"
   ]
  },
  {
   "cell_type": "code",
   "execution_count": 8,
   "id": "5e22dd40",
   "metadata": {},
   "outputs": [
    {
     "name": "stdout",
     "output_type": "stream",
     "text": [
      "1. Hello World\n",
      "2. Hello World\n",
      "3. Hello World\n",
      "4. Hello World\n",
      "5. Hello World\n",
      "6. Hello World\n",
      "<class 'str'>\n"
     ]
    }
   ],
   "source": [
    "f = open('data.txt','r')\n",
    "x = f.read()\n",
    "f.close()\n",
    "print(x)\n",
    "print(type(x))"
   ]
  },
  {
   "cell_type": "code",
   "execution_count": 10,
   "id": "6677d7ed",
   "metadata": {},
   "outputs": [
    {
     "data": {
      "text/plain": [
       "['1. Hello World',\n",
       " '2. Hello World',\n",
       " '3. Hello World',\n",
       " '4. Hello World',\n",
       " '5. Hello World',\n",
       " '6. Hello World']"
      ]
     },
     "execution_count": 10,
     "metadata": {},
     "output_type": "execute_result"
    }
   ],
   "source": [
    "x.split('\\n')"
   ]
  },
  {
   "cell_type": "code",
   "execution_count": 11,
   "id": "9151ffaa",
   "metadata": {},
   "outputs": [],
   "source": [
    "f = open('new_file.txt','w')\n",
    "f.write('Hello World')\n",
    "f.close()"
   ]
  },
  {
   "cell_type": "code",
   "execution_count": 15,
   "id": "a0f3933f",
   "metadata": {},
   "outputs": [
    {
     "name": "stdout",
     "output_type": "stream",
     "text": [
      "Enter n = 2\n",
      "Enter name of the product = Apple\n",
      "Enter price of the product = 300\n",
      "Enter quantity = 2\n",
      "Enter name of the product = Banana\n",
      "Enter price of the product = 100\n",
      "Enter quantity = 2\n",
      "\n",
      "Product  Price Qty  Total\n",
      "Apple 300.0 2.0 600.0 \n",
      "Banana 100.0 2.0 200.0 \n",
      "\n",
      "All total price =  800.0\n"
     ]
    }
   ],
   "source": [
    "bill = str()\n",
    "all_total = 0\n",
    "n = int(input(\"Enter n = \"))\n",
    "\n",
    "for i in range(n):\n",
    "    name = input(\"Enter name of the product = \")\n",
    "    price = float(input(\"Enter price of the product = \"))\n",
    "    qty = float(input(\"Enter quantity = \"))\n",
    "    total = price * qty\n",
    "    bill = bill + f\"{name} {price} {qty} {total} \\n\"\n",
    "    all_total = all_total + total\n",
    "    \n",
    "print(\"\\nProduct  Price Qty  Total\")\n",
    "print(bill)\n",
    "print(\"All total price = \",all_total)\n",
    "\n",
    "f = open('new_file.txt','w')\n",
    "f.write(\"Product Price Qty Total\\n\")\n",
    "f.write(bill)\n",
    "f.close()"
   ]
  },
  {
   "cell_type": "code",
   "execution_count": 13,
   "id": "e74a7874",
   "metadata": {},
   "outputs": [
    {
     "data": {
      "text/plain": [
       "'C:\\\\Users\\\\Aayush\\\\PythonClass6pm'"
      ]
     },
     "execution_count": 13,
     "metadata": {},
     "output_type": "execute_result"
    }
   ],
   "source": [
    "pwd"
   ]
  },
  {
   "cell_type": "code",
   "execution_count": 18,
   "id": "19adfdbe",
   "metadata": {},
   "outputs": [
    {
     "name": "stdout",
     "output_type": "stream",
     "text": [
      "Enter n = 2\n",
      "Enter name of the product = Apple\n",
      "Enter price of the product = 300\n",
      "Enter quantity = 2\n",
      "Enter name of the product = Banana\n",
      "Enter price of the product = 100\n",
      "Enter quantity = 4\n"
     ]
    }
   ],
   "source": [
    "bill = str()\n",
    "f = open('bill.txt','a')\n",
    "f.write(\"Product Price Qty Total\\n\")\n",
    "\n",
    "n = int(input(\"Enter n = \"))\n",
    "for i in range(n):\n",
    "    name = input(\"Enter name of the product = \")\n",
    "    price = float(input(\"Enter price of the product = \"))\n",
    "    qty = float(input(\"Enter quantity = \"))\n",
    "    total = price * qty\n",
    "    f.write(f\"{name} {price} {qty} {total} \\n\")\n",
    "    \n",
    "f.close()"
   ]
  },
  {
   "cell_type": "code",
   "execution_count": 19,
   "id": "e15dbd2b",
   "metadata": {},
   "outputs": [
    {
     "name": "stdout",
     "output_type": "stream",
     "text": [
      "Enter n = 2\n",
      "Enter name of the product = Apple\n",
      "Enter price of the product = 300\n",
      "Enter quantity = 3\n",
      "Enter name of the product = Banana\n",
      "Enter price of the product = 100\n",
      "Enter quantity = 3\n"
     ]
    }
   ],
   "source": [
    "# for csv file\n",
    "bill = str()\n",
    "f = open('bill.csv','a')\n",
    "f.write(\"Product,Price,Qty,Total\\n\")\n",
    "\n",
    "n = int(input(\"Enter n = \"))\n",
    "for i in range(n):\n",
    "    name = input(\"Enter name of the product = \")\n",
    "    price = float(input(\"Enter price of the product = \"))\n",
    "    qty = float(input(\"Enter quantity = \"))\n",
    "    total = price * qty\n",
    "    f.write(f\"{name},{price},{qty},{total}\\n\")\n",
    "    \n",
    "f.close()"
   ]
  },
  {
   "cell_type": "code",
   "execution_count": null,
   "id": "6674ca54",
   "metadata": {},
   "outputs": [],
   "source": []
  }
 ],
 "metadata": {
  "kernelspec": {
   "display_name": "Python 3 (ipykernel)",
   "language": "python",
   "name": "python3"
  },
  "language_info": {
   "codemirror_mode": {
    "name": "ipython",
    "version": 3
   },
   "file_extension": ".py",
   "mimetype": "text/x-python",
   "name": "python",
   "nbconvert_exporter": "python",
   "pygments_lexer": "ipython3",
   "version": "3.9.12"
  }
 },
 "nbformat": 4,
 "nbformat_minor": 5
}
