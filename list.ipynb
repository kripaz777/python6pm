{
 "cells": [
  {
   "cell_type": "code",
   "execution_count": 1,
   "id": "09336622",
   "metadata": {},
   "outputs": [],
   "source": [
    "# Python collection\n",
    "# list\n",
    "# tuple\n",
    "# dict\n",
    "# set"
   ]
  },
  {
   "cell_type": "code",
   "execution_count": 2,
   "id": "acaac4ae",
   "metadata": {},
   "outputs": [],
   "source": [
    "# list\n",
    "# -Multiple data\n",
    "# -Duplicate data\n",
    "# -Indexing\n",
    "# -Mutable datatype"
   ]
  },
  {
   "cell_type": "code",
   "execution_count": 5,
   "id": "81897753",
   "metadata": {},
   "outputs": [
    {
     "name": "stdout",
     "output_type": "stream",
     "text": [
      "<class 'list'>\n",
      "<class 'list'>\n"
     ]
    }
   ],
   "source": [
    "a = [\"Apple\",\"Ball\",\"Cat\",\"Dog\",\"Apple\"]\n",
    "b = [1,2,3,4,5,6,7,8,9,0]\n",
    "print(type(a))\n",
    "print(type(b))"
   ]
  },
  {
   "cell_type": "code",
   "execution_count": 6,
   "id": "f2febc71",
   "metadata": {},
   "outputs": [
    {
     "data": {
      "text/plain": [
       "[]"
      ]
     },
     "execution_count": 6,
     "metadata": {},
     "output_type": "execute_result"
    }
   ],
   "source": [
    "l = list()\n",
    "l"
   ]
  },
  {
   "cell_type": "code",
   "execution_count": 23,
   "id": "07393207",
   "metadata": {},
   "outputs": [
    {
     "name": "stdout",
     "output_type": "stream",
     "text": [
      "Apple\n",
      "['Apple', 'Ball', 'Cat', 'Dog']\n",
      "['Apple', 'Cat', 'Apple']\n",
      "['Apple', 'Dog', 'Cat', 'Ball', 'Apple']\n"
     ]
    }
   ],
   "source": [
    "a = [\"Apple\",\"Ball\",\"Cat\",\"Dog\",\"Apple\"]\n",
    "print(a[0])\n",
    "print(a[0:4])\n",
    "print(a[::2])\n",
    "print(a[::-1])"
   ]
  },
  {
   "cell_type": "code",
   "execution_count": 24,
   "id": "0f9d9b43",
   "metadata": {},
   "outputs": [
    {
     "name": "stdout",
     "output_type": "stream",
     "text": [
      "[1, 2, 3, 4, 5, 6, 4, 4, 4]\n"
     ]
    }
   ],
   "source": [
    "a = [1,2,3,4,5,6]\n",
    "b = [4,4,4]\n",
    "c = a+b\n",
    "print(c)"
   ]
  },
  {
   "cell_type": "code",
   "execution_count": 7,
   "id": "f0c0548a",
   "metadata": {},
   "outputs": [
    {
     "name": "stdout",
     "output_type": "stream",
     "text": [
      "Apple1\n",
      "Ball2\n",
      "Cat3\n",
      "Dog4\n",
      "Apple5\n"
     ]
    }
   ],
   "source": [
    "a = [1,2,3,4,5]\n",
    "b = [\"Apple\",\"Ball\",\"Cat\",\"Dog\",\"Apple\"]\n",
    "n = len(a)\n",
    "for i in range(n):\n",
    "    print(b[i] + str(a[i]))"
   ]
  },
  {
   "cell_type": "code",
   "execution_count": 25,
   "id": "36d587d2",
   "metadata": {},
   "outputs": [
    {
     "name": "stdout",
     "output_type": "stream",
     "text": [
      "5\n"
     ]
    }
   ],
   "source": [
    "c = a[0] + b[0]\n",
    "print(c)"
   ]
  },
  {
   "cell_type": "code",
   "execution_count": 26,
   "id": "eeaa1b23",
   "metadata": {},
   "outputs": [
    {
     "name": "stdout",
     "output_type": "stream",
     "text": [
      "[1, 2, 3, 4, 5, 6, 1, 2, 3, 4, 5, 6]\n"
     ]
    }
   ],
   "source": [
    "a = [1,2,3,4,5,6]\n",
    "print(a*2)"
   ]
  },
  {
   "cell_type": "code",
   "execution_count": 27,
   "id": "393efff4",
   "metadata": {},
   "outputs": [],
   "source": [
    "# append() insert() extend()"
   ]
  },
  {
   "cell_type": "code",
   "execution_count": 28,
   "id": "5b58f29f",
   "metadata": {},
   "outputs": [
    {
     "data": {
      "text/plain": [
       "[1, 2, 3, 4]"
      ]
     },
     "execution_count": 28,
     "metadata": {},
     "output_type": "execute_result"
    }
   ],
   "source": [
    "# Mutable data type\n",
    "a = [1,2,3]\n",
    "a.append(4)\n",
    "a"
   ]
  },
  {
   "cell_type": "code",
   "execution_count": 29,
   "id": "7bda7bae",
   "metadata": {},
   "outputs": [
    {
     "data": {
      "text/plain": [
       "[4, 1, 2, 3]"
      ]
     },
     "execution_count": 29,
     "metadata": {},
     "output_type": "execute_result"
    }
   ],
   "source": [
    "a = [1,2,3]\n",
    "a.insert(0,4)\n",
    "a"
   ]
  },
  {
   "cell_type": "code",
   "execution_count": 30,
   "id": "e1e31b6b",
   "metadata": {},
   "outputs": [
    {
     "data": {
      "text/plain": [
       "[1, 2, 3, 4, 0, 0, 0]"
      ]
     },
     "execution_count": 30,
     "metadata": {},
     "output_type": "execute_result"
    }
   ],
   "source": [
    "a = [1,2,3,4]\n",
    "b = [0,0,0]\n",
    "a.extend(b)\n",
    "a"
   ]
  },
  {
   "cell_type": "code",
   "execution_count": 9,
   "id": "c23c146c",
   "metadata": {},
   "outputs": [],
   "source": [
    "# a = [1,2,3,4]\n",
    "# b = [0,0,0]\n",
    "# a.append(b)\n",
    "# a"
   ]
  },
  {
   "cell_type": "code",
   "execution_count": 33,
   "id": "9a4e3efe",
   "metadata": {},
   "outputs": [
    {
     "data": {
      "text/plain": [
       "[4, 2, 3]"
      ]
     },
     "execution_count": 33,
     "metadata": {},
     "output_type": "execute_result"
    }
   ],
   "source": [
    "#Update\n",
    "a = [1,2,3]\n",
    "a[0] = 4\n",
    "a"
   ]
  },
  {
   "cell_type": "code",
   "execution_count": 34,
   "id": "f3dda058",
   "metadata": {},
   "outputs": [
    {
     "name": "stdout",
     "output_type": "stream",
     "text": [
      "Enter n = 5\n",
      "Enter x = 234\n",
      "Enter x = 54\n",
      "Enter x = 7567\n",
      "Enter x = 432\n",
      "Enter x = 567\n",
      "[234, 54, 7567, 432, 567]\n"
     ]
    }
   ],
   "source": [
    "a = []\n",
    "n = int(input(\"Enter n = \"))\n",
    "for i in range(n):\n",
    "    x = int(input(\"Enter x = \"))\n",
    "    a.append(x)\n",
    "    \n",
    "print(a)"
   ]
  },
  {
   "cell_type": "code",
   "execution_count": 37,
   "id": "e4102a0e",
   "metadata": {},
   "outputs": [
    {
     "name": "stdout",
     "output_type": "stream",
     "text": [
      "The maximum value =  7567\n",
      "The minimum value =  54\n",
      "Sum =  8854\n",
      "[54, 234, 432, 567, 7567]\n",
      "[7567, 567, 432, 234, 54]\n"
     ]
    }
   ],
   "source": [
    "print(\"The maximum value = \",max(a))\n",
    "print(\"The minimum value = \",min(a))\n",
    "print(\"Sum = \",sum(a))\n",
    "a.sort()\n",
    "print(a)\n",
    "a.reverse()\n",
    "print(a)"
   ]
  },
  {
   "cell_type": "code",
   "execution_count": 19,
   "id": "db59f8bc",
   "metadata": {},
   "outputs": [
    {
     "data": {
      "text/plain": [
       "[54, 234, 7567, 432, 567]"
      ]
     },
     "execution_count": 19,
     "metadata": {},
     "output_type": "execute_result"
    }
   ],
   "source": [
    "a = [234, 54, 7567, 432, 567]\n",
    "b = a[0:3]\n",
    "b.sort()\n",
    "a[0:3] = b\n",
    "a"
   ]
  },
  {
   "cell_type": "code",
   "execution_count": 40,
   "id": "7cbcb77b",
   "metadata": {},
   "outputs": [
    {
     "name": "stdout",
     "output_type": "stream",
     "text": [
      "['.apple', 'Ant', 'Ball', 'Zebra']\n"
     ]
    }
   ],
   "source": [
    "a = [\"Ball\",\".apple\",\"Zebra\",\"Ant\"]\n",
    "a.sort()\n",
    "print(a)"
   ]
  },
  {
   "cell_type": "code",
   "execution_count": 41,
   "id": "521a8cde",
   "metadata": {},
   "outputs": [],
   "source": [
    "# del remove() pop()"
   ]
  },
  {
   "cell_type": "code",
   "execution_count": 44,
   "id": "b1101831",
   "metadata": {},
   "outputs": [
    {
     "name": "stdout",
     "output_type": "stream",
     "text": [
      "['Dog', 'Cat', 'Ball', 'Apple']\n"
     ]
    }
   ],
   "source": [
    "a = ['Apple', 'Dog', 'Cat', 'Ball', 'Apple']\n",
    "del a[0]\n",
    "print(a)"
   ]
  },
  {
   "cell_type": "code",
   "execution_count": 20,
   "id": "3df3f78d",
   "metadata": {},
   "outputs": [
    {
     "name": "stdout",
     "output_type": "stream",
     "text": [
      "['Ball', 'Apple']\n"
     ]
    }
   ],
   "source": [
    "a = ['Apple', 'Dog', 'Cat', 'Ball', 'Apple']\n",
    "del a[0:3]\n",
    "print(a)"
   ]
  },
  {
   "cell_type": "code",
   "execution_count": 45,
   "id": "6da12c07",
   "metadata": {},
   "outputs": [
    {
     "data": {
      "text/plain": [
       "['Apple', 'Cat', 'Ball', 'Apple']"
      ]
     },
     "execution_count": 45,
     "metadata": {},
     "output_type": "execute_result"
    }
   ],
   "source": [
    "a = ['Apple', 'Dog', 'Cat', 'Ball', 'Apple']\n",
    "a.remove(\"Dog\")\n",
    "a"
   ]
  },
  {
   "cell_type": "code",
   "execution_count": 21,
   "id": "e21cbc31",
   "metadata": {},
   "outputs": [
    {
     "name": "stdout",
     "output_type": "stream",
     "text": [
      "['Dog', 'Cat', 'Ball', 'Apple', 'Apple']\n",
      "['Dog', 'Cat', 'Ball', 'Apple']\n",
      "['Dog', 'Cat', 'Ball']\n"
     ]
    }
   ],
   "source": [
    "a = ['Apple', 'Dog', 'Cat', 'Ball', 'Apple','Apple']\n",
    "c = a.count('Apple')\n",
    "for i in range(c):\n",
    "    a.remove(\"Apple\")\n",
    "print(a)"
   ]
  },
  {
   "cell_type": "code",
   "execution_count": 52,
   "id": "badb95ae",
   "metadata": {},
   "outputs": [
    {
     "name": "stdout",
     "output_type": "stream",
     "text": [
      "0\n",
      "4\n",
      "5\n"
     ]
    }
   ],
   "source": [
    "a = ['Apple', 'Dog', 'Cat', 'Ball', 'Apple','Apple']\n",
    "l = len(a)\n",
    "for i in range(l):\n",
    "    if a[i] == \"Apple\":\n",
    "        print(i)"
   ]
  },
  {
   "cell_type": "code",
   "execution_count": 31,
   "id": "1fc05fb0",
   "metadata": {},
   "outputs": [
    {
     "data": {
      "text/plain": [
       "'Apple'"
      ]
     },
     "execution_count": 31,
     "metadata": {},
     "output_type": "execute_result"
    }
   ],
   "source": [
    "a = ['Apple', 'Dog', 'Cat', 'Ball', 'Apple','Apple']\n",
    "b = a.pop(0)\n",
    "b"
   ]
  },
  {
   "cell_type": "code",
   "execution_count": 24,
   "id": "eabe8091",
   "metadata": {},
   "outputs": [
    {
     "name": "stdout",
     "output_type": "stream",
     "text": [
      "['Apple', 'Dog', 'Cat', 'Ball', 'Apple', 'Apple']\n",
      "['Apple', 'Dog', 'Cat']\n",
      "['Ball', 'Apple', 'Apple']\n"
     ]
    }
   ],
   "source": [
    "a = ['Apple', 'Dog', 'Cat', 'Ball', 'Apple','Apple']\n",
    "b = a[0:3]\n",
    "c = a[3:]\n",
    "print(a)\n",
    "print(b)\n",
    "print(c)"
   ]
  },
  {
   "cell_type": "code",
   "execution_count": 30,
   "id": "d2ebb487",
   "metadata": {},
   "outputs": [
    {
     "name": "stdout",
     "output_type": "stream",
     "text": [
      "2\n",
      "['Apple', 'Dog'] ['Cat', 'Ball'] ['Apple', 'Apple']\n"
     ]
    }
   ],
   "source": [
    "a = ['Apple', 'Dog', 'Cat', 'Ball', 'Apple','Apple']\n",
    "l = len(a)\n",
    "d = l//3\n",
    "print(d)\n",
    "x = a[:d]\n",
    "y = a[d:2*d]\n",
    "z = a[2*d:3*d]\n",
    "print(x,y,z)"
   ]
  },
  {
   "cell_type": "code",
   "execution_count": 48,
   "id": "b88f0f0d",
   "metadata": {},
   "outputs": [
    {
     "name": "stdout",
     "output_type": "stream",
     "text": [
      "Enter n = 4\n",
      "[['Apple'], ['Dog'], ['Cat'], ['Ball']]\n",
      "['Apple', 'Apple', 'Fish']\n"
     ]
    }
   ],
   "source": [
    "a = ['Apple', 'Dog', 'Cat', 'Ball', 'Apple','Apple',\"Fish\"]\n",
    "l = len(a)\n",
    "n = int(input(\"Enter n = \"))\n",
    "d = l//n\n",
    "x = 0\n",
    "l = []\n",
    "for i in range(n):\n",
    "    l.append(a[x:d+x])\n",
    "    x = x +d\n",
    "print(l)\n",
    "print(a[d*len(l):])"
   ]
  },
  {
   "cell_type": "code",
   "execution_count": 57,
   "id": "b4e238e5",
   "metadata": {},
   "outputs": [
    {
     "name": "stdout",
     "output_type": "stream",
     "text": [
      "Yes\n",
      "3\n"
     ]
    }
   ],
   "source": [
    "# search\n",
    "a = ['Apple', 'Dog', 'Cat', 'Ball', 'Apple','Apple']\n",
    "if \"Apple\" in a:\n",
    "    print(\"Yes\")\n",
    "    print(a.count(\"Apple\"))\n",
    "else:\n",
    "    print(\"No\")"
   ]
  },
  {
   "cell_type": "code",
   "execution_count": 1,
   "id": "ac328933",
   "metadata": {},
   "outputs": [
    {
     "name": "stdout",
     "output_type": "stream",
     "text": [
      "[[1, 2, 3], [4, 5, 6], [7, 8, 9]]\n"
     ]
    }
   ],
   "source": [
    "# list inside list\n",
    "l = [[1,2,3],\n",
    "    [4,5,6],\n",
    "    [7,8,9]]\n",
    "print(l)"
   ]
  },
  {
   "cell_type": "code",
   "execution_count": 2,
   "id": "80d83aae",
   "metadata": {},
   "outputs": [
    {
     "name": "stdout",
     "output_type": "stream",
     "text": [
      "[['Ram', 23, 'Kathmandu'], ['Shyam', 25, 'Bhaktapur'], ['Hari', 56, 'Lalitpur']]\n"
     ]
    }
   ],
   "source": [
    "l = [['Ram',23,'Kathmandu'],\n",
    "    ['Shyam',25,'Bhaktapur'],\n",
    "    ['Hari',56,'Lalitpur']]\n",
    "print(l)"
   ]
  },
  {
   "cell_type": "code",
   "execution_count": 3,
   "id": "e4f9e1f6",
   "metadata": {},
   "outputs": [
    {
     "name": "stdout",
     "output_type": "stream",
     "text": [
      "['Ram', 23, 'Kathmandu']\n"
     ]
    }
   ],
   "source": [
    "print(l[0])"
   ]
  },
  {
   "cell_type": "code",
   "execution_count": 5,
   "id": "f6849f10",
   "metadata": {},
   "outputs": [
    {
     "name": "stdout",
     "output_type": "stream",
     "text": [
      "Ram\n"
     ]
    }
   ],
   "source": [
    "print(l[0][0])"
   ]
  },
  {
   "cell_type": "code",
   "execution_count": 8,
   "id": "cdf6bd5f",
   "metadata": {},
   "outputs": [
    {
     "name": "stdout",
     "output_type": "stream",
     "text": [
      "[['Hari', 56, 'Lalitpur']]\n"
     ]
    }
   ],
   "source": [
    "del l[0]\n",
    "print(l)"
   ]
  },
  {
   "cell_type": "code",
   "execution_count": 11,
   "id": "8ada1f7a",
   "metadata": {},
   "outputs": [
    {
     "name": "stdout",
     "output_type": "stream",
     "text": [
      "[['Shyam', 25, 'Bhaktapur'], ['Hari', 56, 'Lalitpur']]\n"
     ]
    }
   ],
   "source": [
    "a = [['Ram', 23, 'Kathmandu'], ['Shyam', 25, 'Bhaktapur'], ['Hari', 56, 'Lalitpur']]\n",
    "del a[0]\n",
    "print(a)"
   ]
  },
  {
   "cell_type": "code",
   "execution_count": 12,
   "id": "53082752",
   "metadata": {},
   "outputs": [
    {
     "name": "stdout",
     "output_type": "stream",
     "text": [
      "[['Shyam', 25, 'Bhaktapur'], ['Hari', 56, 'Lalitpur']]\n",
      "['Ram', 23, 'Kathmandu']\n"
     ]
    }
   ],
   "source": [
    "a = [['Ram', 23, 'Kathmandu'], ['Shyam', 25, 'Bhaktapur'], ['Hari', 56, 'Lalitpur']]\n",
    "b = a.pop(0)\n",
    "print(a)\n",
    "print(b)"
   ]
  },
  {
   "cell_type": "code",
   "execution_count": 13,
   "id": "9cd7d396",
   "metadata": {},
   "outputs": [
    {
     "name": "stdout",
     "output_type": "stream",
     "text": [
      "Enter n = 3\n",
      "Enter name = Ram\n",
      "Enter age = 34\n",
      "Enter add = Kathmandu\n",
      "Enter name = Shyam\n",
      "Enter age = 45\n",
      "Enter add = Bhaktapur\n",
      "Enter name = Hari\n",
      "Enter age = 89\n",
      "Enter add = Lalitpur\n",
      "[['Ram', 34, 'Kathmandu'], ['Shyam', 45, 'Bhaktapur'], ['Hari', 89, 'Lalitpur']]\n"
     ]
    }
   ],
   "source": [
    "l = []\n",
    "n = int(input(\"Enter n = \"))\n",
    "for i in range(n):\n",
    "    name = input(\"Enter name = \")\n",
    "    age = int(input(\"Enter age = \"))\n",
    "    add = input(\"Enter add = \")\n",
    "    data = [name,age,add]\n",
    "    l.append(data)\n",
    "    \n",
    "print(l)"
   ]
  },
  {
   "cell_type": "code",
   "execution_count": 14,
   "id": "e374caba",
   "metadata": {},
   "outputs": [
    {
     "name": "stdout",
     "output_type": "stream",
     "text": [
      "Enter n = 1\n",
      "Enter name of the product = Apple\n",
      "Enter price of the product = 100\n",
      "Enter quantity = 2\n",
      "['Product', 'Price', 'Qty', 'Total']\n",
      "[['Apple', 100.0, 2.0, 200.0]]\n",
      "All total price =  200.0\n"
     ]
    }
   ],
   "source": [
    "bill = []\n",
    "all_total = 0\n",
    "n = int(input(\"Enter n = \"))\n",
    "\n",
    "for i in range(n):\n",
    "    name = input(\"Enter name of the product = \")\n",
    "    price = float(input(\"Enter price of the product = \"))\n",
    "    qty = float(input(\"Enter quantity = \"))\n",
    "    total = price * qty\n",
    "    bill.append([name,price,qty,total])\n",
    "    all_total = all_total + total\n",
    "    \n",
    "print([\"Product\",\"Price\",\"Qty\",\"Total\"])\n",
    "print(bill)\n",
    "print(\"All total price = \",all_total)"
   ]
  },
  {
   "cell_type": "code",
   "execution_count": 16,
   "id": "67cad08d",
   "metadata": {},
   "outputs": [
    {
     "name": "stdout",
     "output_type": "stream",
     "text": [
      "Enter name = Ram\n",
      "['Ram', 34, 'Kathmandu']\n"
     ]
    }
   ],
   "source": [
    "info = [['Ram', 34, 'Kathmandu'], ['Shyam', 45, 'Bhaktapur'], ['Hari', 89, 'Lalitpur']]\n",
    "name = input(\"Enter name = \")\n",
    "for i in info:\n",
    "    if i[0] == name:\n",
    "        print(i)"
   ]
  },
  {
   "cell_type": "code",
   "execution_count": 17,
   "id": "0a6ea5c4",
   "metadata": {},
   "outputs": [
    {
     "name": "stdout",
     "output_type": "stream",
     "text": [
      "[['Ram', 'Shyam', 'Hari'], [23, 45, 67], ['Kathmandu', 'Bhaktapur', 'Lalitpur']]\n"
     ]
    }
   ],
   "source": [
    "info = [['Ram','Shyam','Hari'],\n",
    "       [23,45,67],\n",
    "       ['Kathmandu','Bhaktapur','Lalitpur']]\n",
    "print(info)\n",
    "\n"
   ]
  },
  {
   "cell_type": "code",
   "execution_count": 18,
   "id": "bc384776",
   "metadata": {},
   "outputs": [],
   "source": [
    "#WAP to create and do CRUD list inside list like above\n",
    "#WAP to create a matrix\n",
    "# r = ?\n",
    "# c = ?\n",
    "# x =?"
   ]
  },
  {
   "cell_type": "code",
   "execution_count": null,
   "id": "4b15d1c0",
   "metadata": {},
   "outputs": [],
   "source": []
  }
 ],
 "metadata": {
  "kernelspec": {
   "display_name": "Python 3 (ipykernel)",
   "language": "python",
   "name": "python3"
  },
  "language_info": {
   "codemirror_mode": {
    "name": "ipython",
    "version": 3
   },
   "file_extension": ".py",
   "mimetype": "text/x-python",
   "name": "python",
   "nbconvert_exporter": "python",
   "pygments_lexer": "ipython3",
   "version": "3.9.12"
  }
 },
 "nbformat": 4,
 "nbformat_minor": 5
}
