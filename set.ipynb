{
 "cells": [
  {
   "cell_type": "code",
   "execution_count": 1,
   "id": "fa73d229",
   "metadata": {},
   "outputs": [],
   "source": [
    "#Set\n",
    "# -Multiple data\n",
    "# -No duplicate data\n",
    "# -No Indexing\n",
    "# -Mutable datatype\n",
    "#-Unordered"
   ]
  },
  {
   "cell_type": "code",
   "execution_count": 2,
   "id": "65b1005e",
   "metadata": {},
   "outputs": [
    {
     "name": "stdout",
     "output_type": "stream",
     "text": [
      "{1, 2, 3, 4, 5, 6, 7, 8, 9}\n"
     ]
    }
   ],
   "source": [
    "s = {1,2,3,4,5,6,7,8,9}\n",
    "print(s)"
   ]
  },
  {
   "cell_type": "code",
   "execution_count": 6,
   "id": "a7a97210",
   "metadata": {},
   "outputs": [
    {
     "name": "stdout",
     "output_type": "stream",
     "text": [
      "{'Ball', 'Apple', 'Dog', 'Cat'}\n"
     ]
    }
   ],
   "source": [
    "s = {\"Apple\",\"Ball\",\"Cat\",\"Dog\",\"Apple\"}\n",
    "print(s)"
   ]
  },
  {
   "cell_type": "code",
   "execution_count": 10,
   "id": "a1cb70af",
   "metadata": {},
   "outputs": [
    {
     "name": "stdout",
     "output_type": "stream",
     "text": [
      "{('Cat', 'Dog', 'Apple'), ('Apple', 'Ball', 'Apple')}\n"
     ]
    }
   ],
   "source": [
    "#No list, dict, set inside set (No mutable data)\n",
    "s = {(\"Apple\",\"Ball\",\"Apple\"),(\"Cat\",\"Dog\",\"Apple\")}\n",
    "print(s)"
   ]
  },
  {
   "cell_type": "code",
   "execution_count": 12,
   "id": "4b9da961",
   "metadata": {},
   "outputs": [
    {
     "data": {
      "text/plain": [
       "{1, 2, 3, 4, 5, 6}"
      ]
     },
     "execution_count": 12,
     "metadata": {},
     "output_type": "execute_result"
    }
   ],
   "source": [
    "a = {1,2,3}\n",
    "b = {4,5,6}\n",
    "#No print(a+b)\n",
    "a.update(b)\n",
    "a"
   ]
  },
  {
   "cell_type": "code",
   "execution_count": 19,
   "id": "4d7b3417",
   "metadata": {},
   "outputs": [
    {
     "name": "stdout",
     "output_type": "stream",
     "text": [
      "common in both set =  {'Ram'}\n",
      "union of both set =  {'Ram', 'Gates', 'Nabin', 'Jobs', 'Bill', 'John', 'Shyam', 'Sameer'}\n",
      "Working only at ms  {'Shyam', 'Gates', 'Bill', 'John'}\n",
      "Working only at apple  {'Jobs', 'Sameer', 'Nabin'}\n",
      "Unemployed =  {'abc', 'xyz'}\n"
     ]
    }
   ],
   "source": [
    "U = {'Ram', 'Gates', 'Nabin', 'Jobs', 'Bill', 'John', 'Shyam', 'Sameer','xyz','abc'}\n",
    "ms = {'Ram','Shyam','Bill','Gates','John'}\n",
    "apple = {'Jobs','Ram','Nabin','Sameer'}\n",
    "\n",
    "print(\"common in both set = \",ms.intersection(apple))\n",
    "\n",
    "print(\"union of both set = \",ms.union(apple))\n",
    "\n",
    "print(\"Working only at ms \",ms - apple) #ms.difference(apple)\n",
    "\n",
    "print(\"Working only at apple \",apple - ms) #apple.difference(ms)\n",
    "\n",
    "print(\"Unemployed = \",U-ms.union(apple))"
   ]
  },
  {
   "cell_type": "code",
   "execution_count": 20,
   "id": "7fc7586a",
   "metadata": {},
   "outputs": [
    {
     "name": "stdout",
     "output_type": "stream",
     "text": [
      "Ball\n",
      "Apple\n",
      "Dog\n",
      "Cat\n"
     ]
    }
   ],
   "source": [
    "s = {\"Apple\",\"Ball\",\"Cat\",\"Dog\",\"Apple\"}\n",
    "for i in s:\n",
    "    print(i)"
   ]
  },
  {
   "cell_type": "code",
   "execution_count": 23,
   "id": "73607885",
   "metadata": {},
   "outputs": [
    {
     "data": {
      "text/plain": [
       "dict"
      ]
     },
     "execution_count": 23,
     "metadata": {},
     "output_type": "execute_result"
    }
   ],
   "source": [
    "s = {}\n",
    "type(s)"
   ]
  },
  {
   "cell_type": "code",
   "execution_count": 26,
   "id": "185dcce6",
   "metadata": {},
   "outputs": [
    {
     "data": {
      "text/plain": [
       "{'Apple', 'Ball'}"
      ]
     },
     "execution_count": 26,
     "metadata": {},
     "output_type": "execute_result"
    }
   ],
   "source": [
    "s = set()\n",
    "s.add(\"Apple\")\n",
    "s.add(\"Ball\")\n",
    "s"
   ]
  },
  {
   "cell_type": "code",
   "execution_count": 29,
   "id": "59b93f14",
   "metadata": {},
   "outputs": [
    {
     "data": {
      "text/plain": [
       "{'Ball'}"
      ]
     },
     "execution_count": 29,
     "metadata": {},
     "output_type": "execute_result"
    }
   ],
   "source": [
    "s = {'Apple', 'Ball'}\n",
    "s.remove(\"Apple\")\n",
    "s"
   ]
  },
  {
   "cell_type": "code",
   "execution_count": null,
   "id": "a863126f",
   "metadata": {},
   "outputs": [],
   "source": []
  }
 ],
 "metadata": {
  "kernelspec": {
   "display_name": "Python 3 (ipykernel)",
   "language": "python",
   "name": "python3"
  },
  "language_info": {
   "codemirror_mode": {
    "name": "ipython",
    "version": 3
   },
   "file_extension": ".py",
   "mimetype": "text/x-python",
   "name": "python",
   "nbconvert_exporter": "python",
   "pygments_lexer": "ipython3",
   "version": "3.9.12"
  }
 },
 "nbformat": 4,
 "nbformat_minor": 5
}
