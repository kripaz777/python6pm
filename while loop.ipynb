{
 "cells": [
  {
   "cell_type": "code",
   "execution_count": 1,
   "id": "38f8750f",
   "metadata": {},
   "outputs": [],
   "source": [
    "# while loop\n",
    "\n",
    "# while <condition>:\n",
    "#     <operations>"
   ]
  },
  {
   "cell_type": "code",
   "execution_count": 10,
   "id": "fe3699e2",
   "metadata": {},
   "outputs": [
    {
     "name": "stdout",
     "output_type": "stream",
     "text": [
      "0\n",
      "1\n",
      "2\n",
      "3\n",
      "4\n",
      "5\n"
     ]
    }
   ],
   "source": [
    "i = 0\n",
    "n = 5\n",
    "while i<=n:\n",
    "    print(i)\n",
    "    i = i+1\n",
    "#    i+=1"
   ]
  },
  {
   "cell_type": "code",
   "execution_count": 11,
   "id": "49c71cb6",
   "metadata": {},
   "outputs": [
    {
     "name": "stdout",
     "output_type": "stream",
     "text": [
      "Enter n = 5\n",
      "5 * 1 = 5\n",
      "5 * 2 = 10\n",
      "5 * 3 = 15\n",
      "5 * 4 = 20\n",
      "5 * 5 = 25\n",
      "5 * 6 = 30\n",
      "5 * 7 = 35\n",
      "5 * 8 = 40\n",
      "5 * 9 = 45\n",
      "5 * 10 = 50\n"
     ]
    }
   ],
   "source": [
    "i = 1\n",
    "n = int(input(\"Enter n = \"))\n",
    "while i<=10:\n",
    "    print(n,\"*\",i,\"=\",n*i)\n",
    "    i = i+1"
   ]
  },
  {
   "cell_type": "code",
   "execution_count": 12,
   "id": "c6992ff0",
   "metadata": {},
   "outputs": [
    {
     "name": "stdout",
     "output_type": "stream",
     "text": [
      "Enter n = 4\n",
      "Enter x = 231\n",
      "231\n",
      "Enter x = 354\n",
      "585\n",
      "Enter x = 546\n",
      "1131\n",
      "Enter x = 567\n",
      "1698\n"
     ]
    }
   ],
   "source": [
    "i = 0\n",
    "s = 0\n",
    "n = int(input(\"Enter n = \"))\n",
    "while i<n:\n",
    "    x = int(input(\"Enter x = \"))\n",
    "    s = s+x\n",
    "    i = i+1\n",
    "    print(s)"
   ]
  },
  {
   "cell_type": "code",
   "execution_count": null,
   "id": "3fd5d41f",
   "metadata": {},
   "outputs": [],
   "source": [
    "i = 0\n",
    "bill = str()\n",
    "all_total = 0\n",
    "n = int(input(\"Enter n = \"))\n",
    "\n",
    "while i<n:\n",
    "    name = input(\"Enter name of the product = \")\n",
    "    price = float(input(\"Enter price of the product = \"))\n",
    "    qty = float(input(\"Enter quantity = \"))\n",
    "    total = price * qty\n",
    "    bill = bill + name + \"\\t\" + str(price) + \"\\t\" + str(qty) + \"\\t\" + str(total) + \"\\n\"\n",
    "    all_total = all_total + total\n",
    "    i = i+1\n",
    "    \n",
    "print(\"\\nProduct\"+\"\\t\"+\"Price\"+\"\\t\"+\"Qty\"+\"\\t\"+\"Total\")\n",
    "print(bill)\n",
    "print(\"All total price = \",all_total)"
   ]
  },
  {
   "cell_type": "code",
   "execution_count": 13,
   "id": "ab81df68",
   "metadata": {},
   "outputs": [
    {
     "name": "stdout",
     "output_type": "stream",
     "text": [
      "120\n"
     ]
    }
   ],
   "source": [
    "i = 1\n",
    "fac = 1\n",
    "while i<=5:\n",
    "    fac = fac * i\n",
    "    i = i+1\n",
    "print(fac) "
   ]
  },
  {
   "cell_type": "code",
   "execution_count": 14,
   "id": "8eaaf74b",
   "metadata": {},
   "outputs": [
    {
     "name": "stdout",
     "output_type": "stream",
     "text": [
      "5\n",
      "4\n",
      "3\n",
      "2\n",
      "1\n"
     ]
    }
   ],
   "source": [
    "i = 5\n",
    "while i>0:\n",
    "    print(i)\n",
    "    i = i-1"
   ]
  },
  {
   "cell_type": "code",
   "execution_count": 15,
   "id": "08550781",
   "metadata": {},
   "outputs": [
    {
     "name": "stdout",
     "output_type": "stream",
     "text": [
      "0\n",
      "1\n",
      "2\n",
      "3\n",
      "4\n"
     ]
    }
   ],
   "source": [
    "i = 0\n",
    "while i<=10:\n",
    "    if i ==5:\n",
    "        break\n",
    "    print(i)\n",
    "    i = i+1"
   ]
  },
  {
   "cell_type": "code",
   "execution_count": 1,
   "id": "1ed81c43",
   "metadata": {},
   "outputs": [
    {
     "name": "stdout",
     "output_type": "stream",
     "text": [
      "0\n",
      "1\n",
      "2\n",
      "3\n",
      "4\n",
      "6\n",
      "7\n",
      "8\n",
      "9\n",
      "10\n"
     ]
    }
   ],
   "source": [
    "i = 0\n",
    "while i<=10:\n",
    "    if i == 5:\n",
    "        i = i+1\n",
    "        continue\n",
    "       \n",
    "    print(i)\n",
    "    i = i+1"
   ]
  },
  {
   "cell_type": "code",
   "execution_count": null,
   "id": "5e16847f",
   "metadata": {},
   "outputs": [],
   "source": []
  }
 ],
 "metadata": {
  "kernelspec": {
   "display_name": "Python 3 (ipykernel)",
   "language": "python",
   "name": "python3"
  },
  "language_info": {
   "codemirror_mode": {
    "name": "ipython",
    "version": 3
   },
   "file_extension": ".py",
   "mimetype": "text/x-python",
   "name": "python",
   "nbconvert_exporter": "python",
   "pygments_lexer": "ipython3",
   "version": "3.9.12"
  }
 },
 "nbformat": 4,
 "nbformat_minor": 5
}
