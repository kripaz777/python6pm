{
 "cells": [
  {
   "cell_type": "code",
   "execution_count": 1,
   "id": "413b893a",
   "metadata": {},
   "outputs": [],
   "source": [
    "# class A:\n",
    "#     pass\n",
    "\n",
    "# class B(A):\n",
    "#     pass\n",
    "\n",
    "# obj = B()"
   ]
  },
  {
   "cell_type": "code",
   "execution_count": 2,
   "id": "09325460",
   "metadata": {},
   "outputs": [
    {
     "name": "stdout",
     "output_type": "stream",
     "text": [
      "Hello World I am Ram. I am from Kathmandu. I am 34\n",
      "Ram 34 Kathmandu\n"
     ]
    }
   ],
   "source": [
    "class Data:\n",
    "    def __init__(self):\n",
    "        self.name = \"Ram\"\n",
    "        self.age = 34\n",
    "        self.add = \"Kathmandu\"\n",
    "    def data(self):\n",
    "        print(self.name,self.age,self.add)\n",
    "\n",
    "class Info(Data):\n",
    "    def info(self):\n",
    "        print(f\"Hello World I am {self.name}. I am from {self.add}. I am {self.age}\")\n",
    "        \n",
    "obj = Info()\n",
    "obj.info()\n",
    "obj.data()"
   ]
  },
  {
   "cell_type": "code",
   "execution_count": null,
   "id": "e282802a",
   "metadata": {},
   "outputs": [],
   "source": [
    "#multilevel\n",
    "class A:\n",
    "    pass\n",
    "class B(A):\n",
    "    pass\n",
    "class C(B):\n",
    "    pass\n",
    "\n",
    "obj = C()"
   ]
  },
  {
   "cell_type": "code",
   "execution_count": 3,
   "id": "86391e6d",
   "metadata": {},
   "outputs": [],
   "source": [
    "# multiple\n",
    "class A:\n",
    "    pass\n",
    "class B:\n",
    "    pass\n",
    "class C(A,B):\n",
    "    pass\n",
    "\n",
    "obj = C()"
   ]
  },
  {
   "cell_type": "code",
   "execution_count": 5,
   "id": "6b12897e",
   "metadata": {},
   "outputs": [
    {
     "name": "stdout",
     "output_type": "stream",
     "text": [
      "Hello World I am Ram. I am from Kathmandu. I am 34\n",
      "Ram 34 Kathmandu\n"
     ]
    }
   ],
   "source": [
    "class Data:\n",
    "    def __init__(self,name,age,add):\n",
    "        self.name = name\n",
    "        self.age  = age\n",
    "        self.add  = add\n",
    "    def data(self):\n",
    "        print(self.name,self.age,self.add)\n",
    "\n",
    "class Info(Data):\n",
    "    def info(self):\n",
    "        print(f\"Hello World I am {self.name}. I am from {self.add}. I am {self.age}\")\n",
    "        \n",
    "obj = Info(\"Ram\",34,\"Kathmandu\")\n",
    "obj.info()\n",
    "obj.data()"
   ]
  },
  {
   "cell_type": "code",
   "execution_count": 10,
   "id": "308bad08",
   "metadata": {},
   "outputs": [
    {
     "name": "stdout",
     "output_type": "stream",
     "text": [
      "Hello World I am Ram. I am from Kathmandu. I am 34\n",
      "34 Kathmandu\n",
      "Ram 34\n"
     ]
    }
   ],
   "source": [
    "class Data:\n",
    "    def __init__(self,age,add):\n",
    "        self.age  = age\n",
    "        self.add  = add\n",
    "        \n",
    "    def data(self):\n",
    "        print(self.age,self.add)\n",
    "\n",
    "class Info(Data):\n",
    "    def __init__(self,name,age,add):\n",
    "        self.name = name\n",
    "        Data.__init__(self,age,add)\n",
    "    def info(self):\n",
    "        print(f\"Hello World I am {self.name}. I am from {self.add}. I am {self.age}\")\n",
    "        \n",
    "obj = Info(\"Ram\",34,\"Kathmandu\")\n",
    "obj.info()\n",
    "obj.data()\n",
    "print(obj.name,obj.age)"
   ]
  },
  {
   "cell_type": "code",
   "execution_count": 6,
   "id": "f3459ef9",
   "metadata": {},
   "outputs": [
    {
     "name": "stdout",
     "output_type": "stream",
     "text": [
      "Hello World I am Ram. I am from Kathmandu. I am 34\n",
      "34 Kathmandu\n",
      "Hello my address is Kathmandu\n",
      "Hello my address is Bhaktapur\n"
     ]
    }
   ],
   "source": [
    "#multilevel\n",
    "class Address:\n",
    "    def __init__(self,add):\n",
    "        self.add = add\n",
    "        \n",
    "    def address(self):\n",
    "        print(f\"Hello my address is {self.add}\")\n",
    "        \n",
    "class Data(Address):\n",
    "    def __init__(self,age,add):\n",
    "        self.age  = age\n",
    "        Address.__init__(self,add)\n",
    "    def data(self):\n",
    "        print(self.age,self.add)\n",
    "\n",
    "class Info(Data):\n",
    "    def __init__(self,name,age,add):\n",
    "        self.name = name\n",
    "        Data.__init__(self,age,add)\n",
    "    def info(self):\n",
    "        print(f\"Hello World I am {self.name}. I am from {self.add}. I am {self.age}\")\n",
    "        \n",
    "obj = Info(\"Ram\",34,\"Kathmandu\")\n",
    "obj.info()\n",
    "obj.data()\n",
    "obj.address()\n",
    "obj1 = Address(\"Bhaktapur\")\n",
    "obj1.address()"
   ]
  },
  {
   "cell_type": "code",
   "execution_count": 9,
   "id": "0582b033",
   "metadata": {},
   "outputs": [
    {
     "name": "stdout",
     "output_type": "stream",
     "text": [
      "Hello World I am Ram. I am from Kathmandu. I am 34\n",
      "34 Kathmandu\n",
      "Hello my address is Kathmandu\n"
     ]
    }
   ],
   "source": [
    "#multilevel\n",
    "class Address:\n",
    "    def __init__(self,add):\n",
    "        self.add = add\n",
    "        \n",
    "    def address(self):\n",
    "        print(f\"Hello my address is {self.add}\")\n",
    "        \n",
    "class Data:\n",
    "    def __init__(self,age):\n",
    "        self.age  = age\n",
    "    def data(self):\n",
    "        print(self.age,self.add)\n",
    "\n",
    "class Info(Address,Data):\n",
    "    def __init__(self,name,age,add):\n",
    "        self.name = name\n",
    "        Data.__init__(self,age)\n",
    "        Address.__init__(self,add)\n",
    "    def info(self):\n",
    "        print(f\"Hello World I am {self.name}. I am from {self.add}. I am {self.age}\")\n",
    "        \n",
    "obj = Info(\"Ram\",34,\"Kathmandu\")\n",
    "obj.info()\n",
    "obj.data()\n",
    "obj.address()"
   ]
  },
  {
   "cell_type": "code",
   "execution_count": 26,
   "id": "c82e656a",
   "metadata": {},
   "outputs": [
    {
     "name": "stdout",
     "output_type": "stream",
     "text": [
      "Hello World I am Ram. I am 34\n",
      "Hello my address is Kathmandu\n",
      "Ram 34 Kathmandu\n"
     ]
    }
   ],
   "source": [
    "# private,protected and public members\n",
    "class Data:\n",
    "    def __init__(self):\n",
    "        self.name = \"Ram\"\n",
    "        self._age = 34\n",
    "        self.__add = \"Kathmandu\"\n",
    "    def data(self):\n",
    "        print(self.name,self._age,self.__add)\n",
    "        \n",
    "    def my_add(self):\n",
    "        print(f\"Hello my address is {self.__add}\")\n",
    "\n",
    "class Info(Data):\n",
    "    def info(self):\n",
    "        print(f\"Hello World I am {self.name}. I am {self._age}\")\n",
    "        Data.my_add(self)\n",
    "obj = Info()\n",
    "obj.info()\n",
    "obj.data()\n",
    "# obj.my_age()"
   ]
  },
  {
   "cell_type": "code",
   "execution_count": null,
   "id": "391f3971",
   "metadata": {},
   "outputs": [],
   "source": []
  }
 ],
 "metadata": {
  "kernelspec": {
   "display_name": "Python 3 (ipykernel)",
   "language": "python",
   "name": "python3"
  },
  "language_info": {
   "codemirror_mode": {
    "name": "ipython",
    "version": 3
   },
   "file_extension": ".py",
   "mimetype": "text/x-python",
   "name": "python",
   "nbconvert_exporter": "python",
   "pygments_lexer": "ipython3",
   "version": "3.9.12"
  }
 },
 "nbformat": 4,
 "nbformat_minor": 5
}
