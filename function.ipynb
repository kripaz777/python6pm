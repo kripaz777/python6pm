{
 "cells": [
  {
   "cell_type": "code",
   "execution_count": 1,
   "id": "178a04a5",
   "metadata": {},
   "outputs": [],
   "source": [
    "# def <function_name>():\n",
    "#     <operation>\n",
    "    \n",
    "# <function_name>()\n"
   ]
  },
  {
   "cell_type": "code",
   "execution_count": 2,
   "id": "3ead4fe2",
   "metadata": {},
   "outputs": [],
   "source": [
    "# print() int() str() float() input() type() list() tuple() dict() set()"
   ]
  },
  {
   "cell_type": "code",
   "execution_count": null,
   "id": "f611a341",
   "metadata": {},
   "outputs": [],
   "source": [
    "a = 10"
   ]
  },
  {
   "cell_type": "code",
   "execution_count": 6,
   "id": "69dfba18",
   "metadata": {},
   "outputs": [
    {
     "name": "stdout",
     "output_type": "stream",
     "text": [
      "Hello World\n"
     ]
    }
   ],
   "source": [
    "def hello():\n",
    "    print(\"Hello World\")\n",
    "    \n",
    "    \n",
    "hello()"
   ]
  },
  {
   "cell_type": "code",
   "execution_count": 9,
   "id": "406a3cb3",
   "metadata": {},
   "outputs": [
    {
     "name": "stdout",
     "output_type": "stream",
     "text": [
      "Enter l = 10\n",
      "Enter b = 5\n",
      "50\n"
     ]
    }
   ],
   "source": [
    "def area():\n",
    "    l = int(input(\"Enter l = \"))    #local variable\n",
    "    b = int(input(\"Enter b = \"))    #local variable\n",
    "    a = l*b\n",
    "    print(a)\n",
    "    \n",
    "area()"
   ]
  },
  {
   "cell_type": "code",
   "execution_count": null,
   "id": "77564751",
   "metadata": {},
   "outputs": [],
   "source": [
    "l = int(input(\"Enter l = \"))    #global variable\n",
    "b = int(input(\"Enter b = \"))    #global variable\n",
    "\n",
    "def area():\n",
    "    a = l*b\n",
    "    print(a)\n",
    "    \n",
    "area()"
   ]
  },
  {
   "cell_type": "code",
   "execution_count": null,
   "id": "94550b7a",
   "metadata": {},
   "outputs": [],
   "source": [
    "def area():\n",
    "    global l,b\n",
    "    l = int(input(\"Enter l = \"))    #global variable\n",
    "    b = int(input(\"Enter b = \"))    #global variable\n",
    "    a = l*b\n",
    "    print(a)\n",
    "    \n",
    "area()"
   ]
  },
  {
   "cell_type": "code",
   "execution_count": null,
   "id": "422fc006",
   "metadata": {},
   "outputs": [],
   "source": [
    "def area():\n",
    "    l = int(input(\"Enter l = \"))    #local variable\n",
    "    b = int(input(\"Enter b = \"))    #local variable\n",
    "    a = l*b\n",
    "    print(a)\n",
    "    \n",
    "def volume():\n",
    "    l = int(input(\"Enter l = \"))    #local variable\n",
    "    b = int(input(\"Enter b = \"))    #local variable\n",
    "    h = int(input(\"Enter h = \"))\n",
    "    v = a*h\n",
    "    print(v)\n",
    "    \n",
    "\n",
    "volume()\n",
    "area()"
   ]
  },
  {
   "cell_type": "code",
   "execution_count": 11,
   "id": "a41ca26c",
   "metadata": {},
   "outputs": [
    {
     "name": "stdout",
     "output_type": "stream",
     "text": [
      "Enter l = 100\n",
      "Enter b = 50\n",
      "Enter h = 10\n",
      "50000\n",
      "5000\n"
     ]
    }
   ],
   "source": [
    "l = int(input(\"Enter l = \"))    #local variable\n",
    "b = int(input(\"Enter b = \"))    #local variable\n",
    "h = int(input(\"Enter h = \"))\n",
    "\n",
    "def area():\n",
    "    a = l*b\n",
    "    print(a)\n",
    "    \n",
    "def volume():\n",
    "    v = l*b*h\n",
    "    print(v)\n",
    "    \n",
    "\n",
    "volume()\n",
    "area()"
   ]
  },
  {
   "cell_type": "code",
   "execution_count": 12,
   "id": "8271324b",
   "metadata": {},
   "outputs": [],
   "source": [
    "# function without argumnt and no return type\n",
    "# function with argumnt and no return type\n",
    "# function without argumnt and return type\n",
    "# function with argumnt and return type"
   ]
  },
  {
   "cell_type": "code",
   "execution_count": 14,
   "id": "827d8f9a",
   "metadata": {},
   "outputs": [
    {
     "name": "stdout",
     "output_type": "stream",
     "text": [
      "Enter l = 10\n",
      "Enter b = 20\n",
      "200\n"
     ]
    }
   ],
   "source": [
    "# argument\n",
    "def area(x,y):                  #parameter\n",
    "    a = x*y\n",
    "    print(a)\n",
    "\n",
    "l = int(input(\"Enter l = \"))    #global variable\n",
    "b = int(input(\"Enter b = \"))    #global variable\n",
    "area(l,b)                       #argument"
   ]
  },
  {
   "cell_type": "code",
   "execution_count": 16,
   "id": "a9c10a5a",
   "metadata": {},
   "outputs": [
    {
     "name": "stdout",
     "output_type": "stream",
     "text": [
      "Enter l = 100\n",
      "Enter b = 20\n",
      "Enter h = 3\n",
      "6000\n"
     ]
    }
   ],
   "source": [
    "# argument\n",
    "def area(n):                  #parameter\n",
    "#     a = x*y\n",
    "    x = n[0]\n",
    "    y = n[1]\n",
    "    z = n[2]\n",
    "    v = x*y*z\n",
    "    print(v)\n",
    "\n",
    "l = int(input(\"Enter l = \"))    #global variable\n",
    "b = int(input(\"Enter b = \"))    #global variable\n",
    "h = int(input(\"Enter h = \"))    #global variabl\n",
    "k = (l,b,h)\n",
    "area(k)                       #argument"
   ]
  },
  {
   "cell_type": "code",
   "execution_count": 22,
   "id": "ffae7937",
   "metadata": {},
   "outputs": [
    {
     "name": "stdout",
     "output_type": "stream",
     "text": [
      "C\n",
      "C++\n",
      "Java\n",
      "Python\n"
     ]
    }
   ],
   "source": [
    "def language(lan = \"Python\"):\n",
    "    print(lan)\n",
    "    \n",
    "language(\"C\")\n",
    "language(\"C++\")\n",
    "language(\"Java\")\n",
    "language()"
   ]
  },
  {
   "cell_type": "code",
   "execution_count": 19,
   "id": "8008745e",
   "metadata": {},
   "outputs": [
    {
     "name": "stdout",
     "output_type": "stream",
     "text": [
      "('C', 'C++', 'Java')\n",
      "Python\n"
     ]
    }
   ],
   "source": [
    "def language(lan = \"Python\"):\n",
    "    print(lan)\n",
    "l = (\"C\",\"C++\",\"Java\")\n",
    "language(l)\n",
    "# language(\"C++\")\n",
    "# language(\"Java\")\n",
    "language()"
   ]
  },
  {
   "cell_type": "code",
   "execution_count": 2,
   "id": "de86821c",
   "metadata": {},
   "outputs": [
    {
     "name": "stdout",
     "output_type": "stream",
     "text": [
      "Enter l = 10\n",
      "Enter b = 4\n",
      "100\n"
     ]
    }
   ],
   "source": [
    "# argument\n",
    "def area(x,y=10):                  #parameter\n",
    "    a = x*y\n",
    "    print(a)\n",
    "\n",
    "l = int(input(\"Enter l = \"))    #global variable\n",
    "b = int(input(\"Enter b = \"))    #global variable\n",
    "area(l)                         #argument"
   ]
  },
  {
   "cell_type": "code",
   "execution_count": 2,
   "id": "4275f631",
   "metadata": {},
   "outputs": [
    {
     "ename": "SyntaxError",
     "evalue": "non-default argument follows default argument (3367242493.py, line 2)",
     "output_type": "error",
     "traceback": [
      "\u001b[1;36m  Input \u001b[1;32mIn [2]\u001b[1;36m\u001b[0m\n\u001b[1;33m    def area(x=10,y):                  #parameter\u001b[0m\n\u001b[1;37m                   ^\u001b[0m\n\u001b[1;31mSyntaxError\u001b[0m\u001b[1;31m:\u001b[0m non-default argument follows default argument\n"
     ]
    }
   ],
   "source": [
    "# argument\n",
    "def area(y,x=10):                  #parameter\n",
    "    a = x*y\n",
    "    print(a)\n",
    "\n",
    "l = int(input(\"Enter l = \"))    #global variable\n",
    "b = int(input(\"Enter b = \"))    #global variable\n",
    "area(b,l)                       #argument"
   ]
  },
  {
   "cell_type": "code",
   "execution_count": null,
   "id": "ceec059c",
   "metadata": {},
   "outputs": [],
   "source": []
  }
 ],
 "metadata": {
  "kernelspec": {
   "display_name": "Python 3 (ipykernel)",
   "language": "python",
   "name": "python3"
  },
  "language_info": {
   "codemirror_mode": {
    "name": "ipython",
    "version": 3
   },
   "file_extension": ".py",
   "mimetype": "text/x-python",
   "name": "python",
   "nbconvert_exporter": "python",
   "pygments_lexer": "ipython3",
   "version": "3.9.12"
  }
 },
 "nbformat": 4,
 "nbformat_minor": 5
}
