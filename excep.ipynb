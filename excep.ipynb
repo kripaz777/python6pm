{
 "cells": [
  {
   "cell_type": "code",
   "execution_count": 1,
   "id": "0a6219f5",
   "metadata": {},
   "outputs": [],
   "source": [
    "# try:\n",
    "#     <operation>\n",
    "# except:\n",
    "#     <operation>"
   ]
  },
  {
   "cell_type": "code",
   "execution_count": 3,
   "id": "449ca8b0",
   "metadata": {},
   "outputs": [
    {
     "name": "stdout",
     "output_type": "stream",
     "text": [
      "Enter a = Ten\n",
      "Enter int value\n"
     ]
    }
   ],
   "source": [
    "try:\n",
    "    a = int(input(\"Enter a = \"))\n",
    "except:\n",
    "    print(\"Enter int value\")"
   ]
  },
  {
   "cell_type": "code",
   "execution_count": 5,
   "id": "67c59c62",
   "metadata": {},
   "outputs": [
    {
     "name": "stdout",
     "output_type": "stream",
     "text": [
      "There is no such file\n"
     ]
    }
   ],
   "source": [
    "try:\n",
    "    file = open('data.tsv','r')\n",
    "    file.close()\n",
    "except:\n",
    "    print(\"There is no such file\")"
   ]
  },
  {
   "cell_type": "code",
   "execution_count": 8,
   "id": "562f4820",
   "metadata": {},
   "outputs": [
    {
     "name": "stdout",
     "output_type": "stream",
     "text": [
      "Enter a = 10\n",
      "Enter b = sddsf\n",
      "Error\n"
     ]
    }
   ],
   "source": [
    "try:\n",
    "    a = int(input(\"Enter a = \"))\n",
    "    b = int(input(\"Enter b = \"))\n",
    "except:\n",
    "    print(\"Error\")"
   ]
  },
  {
   "cell_type": "code",
   "execution_count": 15,
   "id": "54a9d2b4",
   "metadata": {},
   "outputs": [
    {
     "name": "stdout",
     "output_type": "stream",
     "text": [
      "Enter a = 10\n",
      "Enter b = 0\n",
      "Value of b can not be zero\n"
     ]
    }
   ],
   "source": [
    "try:\n",
    "    a = int(input(\"Enter a = \"))\n",
    "    b = int(input(\"Enter b = \"))\n",
    "    c = a/b\n",
    "    print(c)\n",
    "except ValueError:\n",
    "    print(\"Value shoud be int\")\n",
    "except ZeroDivisionError:\n",
    "    print(\"Value of b can not be zero\")"
   ]
  },
  {
   "cell_type": "code",
   "execution_count": null,
   "id": "247495d5",
   "metadata": {},
   "outputs": [],
   "source": [
    "try:\n",
    "    a = int(input(\"Enter a = \"))\n",
    "    b = int(input(\"Enter b = \"))\n",
    "    c = a/b\n",
    "    \n",
    "except ValueError:\n",
    "    print(\"Value shoud be int\")\n",
    "except ZeroDivisionError:\n",
    "    print(\"Value of b can not be zero\")\n",
    "else:\n",
    "    print(c)"
   ]
  },
  {
   "cell_type": "code",
   "execution_count": 16,
   "id": "7c3a2f4b",
   "metadata": {},
   "outputs": [
    {
     "name": "stdout",
     "output_type": "stream",
     "text": [
      "Enter a = 10\n",
      "Enter b = sfsd\n",
      "Value shoud be int\n",
      "Enter a = 10\n",
      "Enter b = 3\n",
      "3.3333333333333335\n"
     ]
    }
   ],
   "source": [
    "def cal():\n",
    "    try:\n",
    "        a = int(input(\"Enter a = \"))\n",
    "        b = int(input(\"Enter b = \"))\n",
    "        c = a/b\n",
    "        print(c)\n",
    "    except ValueError:\n",
    "        print(\"Value shoud be int\")\n",
    "        cal()\n",
    "    except ZeroDivisionError:\n",
    "        print(\"Value of b can not be zero\")\n",
    "        cal()\n",
    "        \n",
    "cal()"
   ]
  },
  {
   "cell_type": "code",
   "execution_count": 5,
   "id": "c6262f67",
   "metadata": {},
   "outputs": [
    {
     "name": "stdout",
     "output_type": "stream",
     "text": [
      "Enter a = 10\n",
      "Enter b = sdf\n",
      "Enter b = 0\n"
     ]
    },
    {
     "ename": "TypeError",
     "evalue": "unsupported operand type(s) for /: 'int' and 'NoneType'",
     "output_type": "error",
     "traceback": [
      "\u001b[1;31m---------------------------------------------------------------------------\u001b[0m",
      "\u001b[1;31mTypeError\u001b[0m                                 Traceback (most recent call last)",
      "Input \u001b[1;32mIn [5]\u001b[0m, in \u001b[0;36m<cell line: 29>\u001b[1;34m()\u001b[0m\n\u001b[0;32m     24\u001b[0m     \u001b[38;5;28;01melse\u001b[39;00m:\n\u001b[0;32m     25\u001b[0m         b_value()\n\u001b[1;32m---> 29\u001b[0m \u001b[43mcal\u001b[49m\u001b[43m(\u001b[49m\u001b[43m)\u001b[49m\n",
      "Input \u001b[1;32mIn [5]\u001b[0m, in \u001b[0;36mcal\u001b[1;34m()\u001b[0m\n\u001b[0;32m     20\u001b[0m bb \u001b[38;5;241m=\u001b[39m b_value()\n\u001b[0;32m     22\u001b[0m \u001b[38;5;28;01mif\u001b[39;00m b\u001b[38;5;241m!=\u001b[39m \u001b[38;5;241m0\u001b[39m:\n\u001b[1;32m---> 23\u001b[0m     \u001b[38;5;28mprint\u001b[39m(\u001b[43maa\u001b[49m\u001b[38;5;241;43m/\u001b[39;49m\u001b[43mbb\u001b[49m)\n\u001b[0;32m     24\u001b[0m \u001b[38;5;28;01melse\u001b[39;00m:\n\u001b[0;32m     25\u001b[0m     b_value()\n",
      "\u001b[1;31mTypeError\u001b[0m: unsupported operand type(s) for /: 'int' and 'NoneType'"
     ]
    }
   ],
   "source": [
    "def cal():\n",
    "    global a,b,c\n",
    "    def a_value():\n",
    "        try:      \n",
    "            a = int(input(\"Enter a = \"))\n",
    "            return a\n",
    "        except:\n",
    "            a_value()\n",
    "        \n",
    "    aa = a_value()\n",
    "\n",
    "    def b_value():\n",
    "        try:\n",
    "            b = int(input(\"Enter b = \"))\n",
    "            return b\n",
    "        except:\n",
    "            b_value()\n",
    "    bb = b_value()\n",
    "    if b!= 0:\n",
    "        print(aa/bb)\n",
    "    else:\n",
    "        b_value()\n",
    "        \n",
    "\n",
    "    \n",
    "cal()"
   ]
  },
  {
   "cell_type": "code",
   "execution_count": 4,
   "id": "d8033381",
   "metadata": {},
   "outputs": [
    {
     "name": "stdout",
     "output_type": "stream",
     "text": [
      "Enter a = 10\n",
      "Yes\n",
      "Enter b = 2\n",
      "5.0\n"
     ]
    }
   ],
   "source": [
    "a = int(input(\"Enter a = \"))\n",
    "if type(a) == int:\n",
    "    raise \n",
    "b = int(input(\"Enter b = \"))\n",
    "c = a/b\n",
    "print(c)"
   ]
  },
  {
   "cell_type": "code",
   "execution_count": null,
   "id": "9b75bdef",
   "metadata": {},
   "outputs": [],
   "source": [
    "def cal():\n",
    "    try:\n",
    "        global a\n",
    "        a = int(input('Enter a = '))\n",
    "    except ValueError:\n",
    "        print('Error')\n",
    "        cal()\n",
    "    except ZeroDivisionError:\n",
    "        print('Value of a cannot be zero')\n",
    "        cal()\n",
    "cal()\n",
    "\n",
    " \n",
    "\n",
    "def bcal():\n",
    "    try:\n",
    "        b= int(input('Enter b = '))\n",
    "        c=a/b\n",
    "        print('The division is',c)\n",
    "    except ValueError:\n",
    "        print('Error')\n",
    "        bcal()\n",
    "    except ZeroDivisionError:\n",
    "        print('Value of b cannot be zero')\n",
    "        bcal()\n",
    "\n",
    " \n",
    "\n",
    "bcal()"
   ]
  },
  {
   "cell_type": "code",
   "execution_count": 7,
   "id": "c18f6020",
   "metadata": {},
   "outputs": [
    {
     "name": "stdout",
     "output_type": "stream",
     "text": [
      "The age should be at least than 18\n"
     ]
    }
   ],
   "source": [
    "age = 10\n",
    "try:\n",
    "    assert age>=18\n",
    "except AssertionError:\n",
    "    print(\"The age should be at least 18\")"
   ]
  },
  {
   "cell_type": "code",
   "execution_count": null,
   "id": "b0a761ad",
   "metadata": {},
   "outputs": [],
   "source": []
  }
 ],
 "metadata": {
  "kernelspec": {
   "display_name": "Python 3 (ipykernel)",
   "language": "python",
   "name": "python3"
  },
  "language_info": {
   "codemirror_mode": {
    "name": "ipython",
    "version": 3
   },
   "file_extension": ".py",
   "mimetype": "text/x-python",
   "name": "python",
   "nbconvert_exporter": "python",
   "pygments_lexer": "ipython3",
   "version": "3.9.12"
  }
 },
 "nbformat": 4,
 "nbformat_minor": 5
}
