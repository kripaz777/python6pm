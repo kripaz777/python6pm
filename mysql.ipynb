{
 "cells": [
  {
   "cell_type": "code",
   "execution_count": 2,
   "id": "3a673728",
   "metadata": {},
   "outputs": [],
   "source": [
    "# !pip install mysql-connector\n",
    "# python -m pip install mysql-connector \n"
   ]
  },
  {
   "cell_type": "code",
   "execution_count": 4,
   "id": "5cc8850b",
   "metadata": {},
   "outputs": [],
   "source": [
    "import mysql.connector  #importing database\n",
    "database = mysql.connector.connect(host=\"localhost\",\n",
    "                                   user=\"root\",\n",
    "                                   password=\"\",\n",
    "                                   database = \"class6pm\")\n",
    "db = database.cursor()"
   ]
  },
  {
   "cell_type": "code",
   "execution_count": 5,
   "id": "b847da57",
   "metadata": {},
   "outputs": [
    {
     "name": "stdout",
     "output_type": "stream",
     "text": [
      "(1, 'Ram Prasad', 89, 78, 67, 87, 90, 450, 84.0, 'A')\n",
      "(2, 'Hari', 78, 87, 90, 65, 79, 460, 85.0, 'A')\n"
     ]
    }
   ],
   "source": [
    "# reading from database\n",
    "db.execute(\"SELECT * FROM student\")\n",
    "result =db.fetchall()\n",
    "for x in result:\n",
    "    print(x)\n"
   ]
  },
  {
   "cell_type": "code",
   "execution_count": 6,
   "id": "9165add8",
   "metadata": {},
   "outputs": [
    {
     "name": "stdout",
     "output_type": "stream",
     "text": [
      "('Ram Prasad', 84.0, 450, 'A')\n",
      "('Hari', 85.0, 460, 'A')\n"
     ]
    }
   ],
   "source": [
    "# reading from database\n",
    "db.execute(\"SELECT name,per,total,grade FROM student\")\n",
    "result =db.fetchall()\n",
    "for x in result:\n",
    "    print(x)\n"
   ]
  },
  {
   "cell_type": "code",
   "execution_count": 7,
   "id": "27e934b0",
   "metadata": {},
   "outputs": [],
   "source": [
    "# insert\n",
    "sql = '''INSERT INTO `student` (`sn`, `name`, `physics`, `chemistry`, `math`, `english`, `nepali`, `total`, `per`, `grade`) \n",
    "                            VALUES ('4', 'Sita', '78', '67', '89', '76', '90', '450', '84', 'A');'''\n",
    "\n",
    "db.execute(sql)\n",
    "database.commit()"
   ]
  },
  {
   "cell_type": "code",
   "execution_count": null,
   "id": "28eaeb03",
   "metadata": {},
   "outputs": [],
   "source": [
    "# WAP to insert student data by taking user input\n"
   ]
  },
  {
   "cell_type": "code",
   "execution_count": 8,
   "id": "c2f712a3",
   "metadata": {},
   "outputs": [
    {
     "name": "stdout",
     "output_type": "stream",
     "text": [
      "(4, 'Sita', 78, 67, 89, 76, 90, 450, 84.0, 'B')\n"
     ]
    }
   ],
   "source": [
    "# reading from database\n",
    "db.execute(\"SELECT * FROM student WHERE grade = 'B'\")\n",
    "result =db.fetchall()\n",
    "for x in result:\n",
    "    print(x)\n"
   ]
  },
  {
   "cell_type": "code",
   "execution_count": 10,
   "id": "6cf5294f",
   "metadata": {},
   "outputs": [],
   "source": [
    "#Delete\n",
    "sql = \"DELETE FROM student WHERE grade = 'B'\"\n",
    "db.execute(sql)\n",
    "database.commit()"
   ]
  },
  {
   "cell_type": "code",
   "execution_count": 11,
   "id": "b2258505",
   "metadata": {},
   "outputs": [],
   "source": [
    "#Update\n",
    "sql = \"UPDATE student SET grade = 'A+' WHERE per >=85\"\n",
    "db.execute(sql)\n",
    "database.commit()"
   ]
  },
  {
   "cell_type": "code",
   "execution_count": null,
   "id": "825fd2bd",
   "metadata": {},
   "outputs": [],
   "source": []
  }
 ],
 "metadata": {
  "kernelspec": {
   "display_name": "Python 3 (ipykernel)",
   "language": "python",
   "name": "python3"
  },
  "language_info": {
   "codemirror_mode": {
    "name": "ipython",
    "version": 3
   },
   "file_extension": ".py",
   "mimetype": "text/x-python",
   "name": "python",
   "nbconvert_exporter": "python",
   "pygments_lexer": "ipython3",
   "version": "3.9.12"
  }
 },
 "nbformat": 4,
 "nbformat_minor": 5
}
